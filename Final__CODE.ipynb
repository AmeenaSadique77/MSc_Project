{
  "nbformat": 4,
  "nbformat_minor": 0,
  "metadata": {
    "colab": {
      "provenance": []
    },
    "kernelspec": {
      "name": "python3",
      "display_name": "Python 3"
    },
    "language_info": {
      "name": "python"
    }
  },
  "cells": [
    {
      "cell_type": "markdown",
      "source": [
        "FINAL MSC PROJECT\n",
        "\n",
        "Personalized Medicine: Exploring the Genetic\n",
        "Basis of Drug Response by Pharmacogenomics\n",
        "\n",
        "\n",
        " NAME :AMEENA SADIQUE\n",
        "\n",
        " STUDENT ID : SAD22603583\n",
        "\n",
        " COURSE : MSC DATA SCIENCE"
      ],
      "metadata": {
        "id": "XNj34Wl7uCH4"
      }
    },
    {
      "cell_type": "code",
      "execution_count": 1,
      "metadata": {
        "colab": {
          "base_uri": "https://localhost:8080/"
        },
        "id": "PqNfDwCD0m8E",
        "outputId": "30767a8f-7354-4741-be63-0dd6ffd1e5cb"
      },
      "outputs": [
        {
          "output_type": "stream",
          "name": "stdout",
          "text": [
            "Collecting keras-tuner\n",
            "  Downloading keras_tuner-1.4.7-py3-none-any.whl.metadata (5.4 kB)\n",
            "Requirement already satisfied: keras in /usr/local/lib/python3.10/dist-packages (from keras-tuner) (3.4.1)\n",
            "Requirement already satisfied: packaging in /usr/local/lib/python3.10/dist-packages (from keras-tuner) (24.1)\n",
            "Requirement already satisfied: requests in /usr/local/lib/python3.10/dist-packages (from keras-tuner) (2.32.3)\n",
            "Collecting kt-legacy (from keras-tuner)\n",
            "  Downloading kt_legacy-1.0.5-py3-none-any.whl.metadata (221 bytes)\n",
            "Requirement already satisfied: absl-py in /usr/local/lib/python3.10/dist-packages (from keras->keras-tuner) (1.4.0)\n",
            "Requirement already satisfied: numpy in /usr/local/lib/python3.10/dist-packages (from keras->keras-tuner) (1.26.4)\n",
            "Requirement already satisfied: rich in /usr/local/lib/python3.10/dist-packages (from keras->keras-tuner) (13.7.1)\n",
            "Requirement already satisfied: namex in /usr/local/lib/python3.10/dist-packages (from keras->keras-tuner) (0.0.8)\n",
            "Requirement already satisfied: h5py in /usr/local/lib/python3.10/dist-packages (from keras->keras-tuner) (3.11.0)\n",
            "Requirement already satisfied: optree in /usr/local/lib/python3.10/dist-packages (from keras->keras-tuner) (0.12.1)\n",
            "Requirement already satisfied: ml-dtypes in /usr/local/lib/python3.10/dist-packages (from keras->keras-tuner) (0.4.0)\n",
            "Requirement already satisfied: charset-normalizer<4,>=2 in /usr/local/lib/python3.10/dist-packages (from requests->keras-tuner) (3.3.2)\n",
            "Requirement already satisfied: idna<4,>=2.5 in /usr/local/lib/python3.10/dist-packages (from requests->keras-tuner) (3.7)\n",
            "Requirement already satisfied: urllib3<3,>=1.21.1 in /usr/local/lib/python3.10/dist-packages (from requests->keras-tuner) (2.0.7)\n",
            "Requirement already satisfied: certifi>=2017.4.17 in /usr/local/lib/python3.10/dist-packages (from requests->keras-tuner) (2024.7.4)\n",
            "Requirement already satisfied: typing-extensions>=4.5.0 in /usr/local/lib/python3.10/dist-packages (from optree->keras->keras-tuner) (4.12.2)\n",
            "Requirement already satisfied: markdown-it-py>=2.2.0 in /usr/local/lib/python3.10/dist-packages (from rich->keras->keras-tuner) (3.0.0)\n",
            "Requirement already satisfied: pygments<3.0.0,>=2.13.0 in /usr/local/lib/python3.10/dist-packages (from rich->keras->keras-tuner) (2.16.1)\n",
            "Requirement already satisfied: mdurl~=0.1 in /usr/local/lib/python3.10/dist-packages (from markdown-it-py>=2.2.0->rich->keras->keras-tuner) (0.1.2)\n",
            "Downloading keras_tuner-1.4.7-py3-none-any.whl (129 kB)\n",
            "\u001b[2K   \u001b[90m━━━━━━━━━━━━━━━━━━━━━━━━━━━━━━━━━━━━━━━━\u001b[0m \u001b[32m129.1/129.1 kB\u001b[0m \u001b[31m2.2 MB/s\u001b[0m eta \u001b[36m0:00:00\u001b[0m\n",
            "\u001b[?25hDownloading kt_legacy-1.0.5-py3-none-any.whl (9.6 kB)\n",
            "Installing collected packages: kt-legacy, keras-tuner\n",
            "Successfully installed keras-tuner-1.4.7 kt-legacy-1.0.5\n"
          ]
        }
      ],
      "source": [
        "# Install necessary package\n",
        "!pip install keras-tuner"
      ]
    },
    {
      "cell_type": "markdown",
      "source": [
        "\n",
        "**1.Data Upload and Exploration**"
      ],
      "metadata": {
        "id": "BkUDQHag13Qa"
      }
    },
    {
      "cell_type": "code",
      "source": [
        "from kerastuner import RandomSearch\n",
        "from google.colab import files\n",
        "import pandas as pd\n",
        "import warnings\n",
        "\n",
        "# Uploading the files to the Colab environment\n",
        "uploaded = files.upload()\n",
        "\n",
        "# Read the Excel files into pandas DataFrames\n",
        "gene_data = pd.read_excel('Final_Extended_Combined_Gene_CDS.xlsx')\n",
        "phenotype_data = pd.read_excel('Combined_Phenotypes_Final.xlsx')\n",
        "\n",
        "# Display the first few rows of each dataframe\n",
        "print(\"Gene Data:\")\n",
        "print(gene_data.head())\n",
        "print(\"\\nPhenotype Data:\")\n",
        "print(phenotype_data.head())"
      ],
      "metadata": {
        "colab": {
          "base_uri": "https://localhost:8080/",
          "height": 1000
        },
        "id": "EbZQs8k00tph",
        "outputId": "0a73ba4d-cb85-440f-90c6-30ac1b0f0690"
      },
      "execution_count": 2,
      "outputs": [
        {
          "output_type": "stream",
          "name": "stderr",
          "text": [
            "<ipython-input-2-f4648b9ddde1>:1: DeprecationWarning: `import kerastuner` is deprecated, please use `import keras_tuner`.\n",
            "  from kerastuner import RandomSearch\n"
          ]
        },
        {
          "output_type": "display_data",
          "data": {
            "text/plain": [
              "<IPython.core.display.HTML object>"
            ],
            "text/html": [
              "\n",
              "     <input type=\"file\" id=\"files-11a961f0-adb3-4155-affe-0d2ab921f01d\" name=\"files[]\" multiple disabled\n",
              "        style=\"border:none\" />\n",
              "     <output id=\"result-11a961f0-adb3-4155-affe-0d2ab921f01d\">\n",
              "      Upload widget is only available when the cell has been executed in the\n",
              "      current browser session. Please rerun this cell to enable.\n",
              "      </output>\n",
              "      <script>// Copyright 2017 Google LLC\n",
              "//\n",
              "// Licensed under the Apache License, Version 2.0 (the \"License\");\n",
              "// you may not use this file except in compliance with the License.\n",
              "// You may obtain a copy of the License at\n",
              "//\n",
              "//      http://www.apache.org/licenses/LICENSE-2.0\n",
              "//\n",
              "// Unless required by applicable law or agreed to in writing, software\n",
              "// distributed under the License is distributed on an \"AS IS\" BASIS,\n",
              "// WITHOUT WARRANTIES OR CONDITIONS OF ANY KIND, either express or implied.\n",
              "// See the License for the specific language governing permissions and\n",
              "// limitations under the License.\n",
              "\n",
              "/**\n",
              " * @fileoverview Helpers for google.colab Python module.\n",
              " */\n",
              "(function(scope) {\n",
              "function span(text, styleAttributes = {}) {\n",
              "  const element = document.createElement('span');\n",
              "  element.textContent = text;\n",
              "  for (const key of Object.keys(styleAttributes)) {\n",
              "    element.style[key] = styleAttributes[key];\n",
              "  }\n",
              "  return element;\n",
              "}\n",
              "\n",
              "// Max number of bytes which will be uploaded at a time.\n",
              "const MAX_PAYLOAD_SIZE = 100 * 1024;\n",
              "\n",
              "function _uploadFiles(inputId, outputId) {\n",
              "  const steps = uploadFilesStep(inputId, outputId);\n",
              "  const outputElement = document.getElementById(outputId);\n",
              "  // Cache steps on the outputElement to make it available for the next call\n",
              "  // to uploadFilesContinue from Python.\n",
              "  outputElement.steps = steps;\n",
              "\n",
              "  return _uploadFilesContinue(outputId);\n",
              "}\n",
              "\n",
              "// This is roughly an async generator (not supported in the browser yet),\n",
              "// where there are multiple asynchronous steps and the Python side is going\n",
              "// to poll for completion of each step.\n",
              "// This uses a Promise to block the python side on completion of each step,\n",
              "// then passes the result of the previous step as the input to the next step.\n",
              "function _uploadFilesContinue(outputId) {\n",
              "  const outputElement = document.getElementById(outputId);\n",
              "  const steps = outputElement.steps;\n",
              "\n",
              "  const next = steps.next(outputElement.lastPromiseValue);\n",
              "  return Promise.resolve(next.value.promise).then((value) => {\n",
              "    // Cache the last promise value to make it available to the next\n",
              "    // step of the generator.\n",
              "    outputElement.lastPromiseValue = value;\n",
              "    return next.value.response;\n",
              "  });\n",
              "}\n",
              "\n",
              "/**\n",
              " * Generator function which is called between each async step of the upload\n",
              " * process.\n",
              " * @param {string} inputId Element ID of the input file picker element.\n",
              " * @param {string} outputId Element ID of the output display.\n",
              " * @return {!Iterable<!Object>} Iterable of next steps.\n",
              " */\n",
              "function* uploadFilesStep(inputId, outputId) {\n",
              "  const inputElement = document.getElementById(inputId);\n",
              "  inputElement.disabled = false;\n",
              "\n",
              "  const outputElement = document.getElementById(outputId);\n",
              "  outputElement.innerHTML = '';\n",
              "\n",
              "  const pickedPromise = new Promise((resolve) => {\n",
              "    inputElement.addEventListener('change', (e) => {\n",
              "      resolve(e.target.files);\n",
              "    });\n",
              "  });\n",
              "\n",
              "  const cancel = document.createElement('button');\n",
              "  inputElement.parentElement.appendChild(cancel);\n",
              "  cancel.textContent = 'Cancel upload';\n",
              "  const cancelPromise = new Promise((resolve) => {\n",
              "    cancel.onclick = () => {\n",
              "      resolve(null);\n",
              "    };\n",
              "  });\n",
              "\n",
              "  // Wait for the user to pick the files.\n",
              "  const files = yield {\n",
              "    promise: Promise.race([pickedPromise, cancelPromise]),\n",
              "    response: {\n",
              "      action: 'starting',\n",
              "    }\n",
              "  };\n",
              "\n",
              "  cancel.remove();\n",
              "\n",
              "  // Disable the input element since further picks are not allowed.\n",
              "  inputElement.disabled = true;\n",
              "\n",
              "  if (!files) {\n",
              "    return {\n",
              "      response: {\n",
              "        action: 'complete',\n",
              "      }\n",
              "    };\n",
              "  }\n",
              "\n",
              "  for (const file of files) {\n",
              "    const li = document.createElement('li');\n",
              "    li.append(span(file.name, {fontWeight: 'bold'}));\n",
              "    li.append(span(\n",
              "        `(${file.type || 'n/a'}) - ${file.size} bytes, ` +\n",
              "        `last modified: ${\n",
              "            file.lastModifiedDate ? file.lastModifiedDate.toLocaleDateString() :\n",
              "                                    'n/a'} - `));\n",
              "    const percent = span('0% done');\n",
              "    li.appendChild(percent);\n",
              "\n",
              "    outputElement.appendChild(li);\n",
              "\n",
              "    const fileDataPromise = new Promise((resolve) => {\n",
              "      const reader = new FileReader();\n",
              "      reader.onload = (e) => {\n",
              "        resolve(e.target.result);\n",
              "      };\n",
              "      reader.readAsArrayBuffer(file);\n",
              "    });\n",
              "    // Wait for the data to be ready.\n",
              "    let fileData = yield {\n",
              "      promise: fileDataPromise,\n",
              "      response: {\n",
              "        action: 'continue',\n",
              "      }\n",
              "    };\n",
              "\n",
              "    // Use a chunked sending to avoid message size limits. See b/62115660.\n",
              "    let position = 0;\n",
              "    do {\n",
              "      const length = Math.min(fileData.byteLength - position, MAX_PAYLOAD_SIZE);\n",
              "      const chunk = new Uint8Array(fileData, position, length);\n",
              "      position += length;\n",
              "\n",
              "      const base64 = btoa(String.fromCharCode.apply(null, chunk));\n",
              "      yield {\n",
              "        response: {\n",
              "          action: 'append',\n",
              "          file: file.name,\n",
              "          data: base64,\n",
              "        },\n",
              "      };\n",
              "\n",
              "      let percentDone = fileData.byteLength === 0 ?\n",
              "          100 :\n",
              "          Math.round((position / fileData.byteLength) * 100);\n",
              "      percent.textContent = `${percentDone}% done`;\n",
              "\n",
              "    } while (position < fileData.byteLength);\n",
              "  }\n",
              "\n",
              "  // All done.\n",
              "  yield {\n",
              "    response: {\n",
              "      action: 'complete',\n",
              "    }\n",
              "  };\n",
              "}\n",
              "\n",
              "scope.google = scope.google || {};\n",
              "scope.google.colab = scope.google.colab || {};\n",
              "scope.google.colab._files = {\n",
              "  _uploadFiles,\n",
              "  _uploadFilesContinue,\n",
              "};\n",
              "})(self);\n",
              "</script> "
            ]
          },
          "metadata": {}
        },
        {
          "output_type": "stream",
          "name": "stdout",
          "text": [
            "Saving Combined_Phenotypes_Final.xlsx to Combined_Phenotypes_Final.xlsx\n",
            "Saving Final_Extended_Combined_Gene_CDS.xlsx to Final_Extended_Combined_Gene_CDS.xlsx\n",
            "Gene Data:\n",
            "      Gene                              Phenotype Activity Score  \\\n",
            "0    ABCG2                     Decreased Function            NaN   \n",
            "1    ABCG2                        Normal Function            NaN   \n",
            "2    ABCG2                          Poor Function            NaN   \n",
            "3  CACNA1S  Malignant Hyperthermia Susceptibility            NaN   \n",
            "4  CACNA1S               Uncertain Susceptibility            NaN   \n",
            "\n",
            "  EHR Priority Result Notation  \\\n",
            "0  Abnormal/Priority/High Risk   \n",
            "1      Normal/Routine/Low Risk   \n",
            "2  Abnormal/Priority/High Risk   \n",
            "3  Abnormal/Priority/High Risk   \n",
            "4                  Normal Risk   \n",
            "\n",
            "                                   Consultation Text  \n",
            "0  This result signifies that the patient has one...  \n",
            "1  This result signifies that the patient has two...  \n",
            "2  This result signifies that the patient has two...  \n",
            "3  This result signifies that this patient has on...  \n",
            "4  Variation in RYR1 and/or CACNA1S genes is asso...  \n",
            "\n",
            "Phenotype Data:\n",
            "                   Allele 1 Function                  Allele 2 Function  \\\n",
            "0                 Decreased function                 Decreased function   \n",
            "1                    Normal function                    Normal function   \n",
            "2                    Normal function                 Decreased function   \n",
            "3                    Normal function                    Normal function   \n",
            "4  Malignant Hyperthermia associated  Malignant Hyperthermia associated   \n",
            "\n",
            "  Activity Value Allele 1 Activity Value Allele 2 Activity Score  \\\n",
            "0                     NaN                     NaN            NaN   \n",
            "1                     NaN                     NaN            NaN   \n",
            "2                     NaN                     NaN            NaN   \n",
            "3                     NaN                     NaN            NaN   \n",
            "4                     NaN                     NaN            NaN   \n",
            "\n",
            "                                       Phenotype  \\\n",
            "0                            ABCG2 Poor Function   \n",
            "1                          ABCG2 Normal Function   \n",
            "2                       ABCG2 Decreased Function   \n",
            "3               CACNA1S Uncertain Susceptibility   \n",
            "4  CACNA1S Malignant Hyperthermia Susceptibility   \n",
            "\n",
            "                                         Description     Gene  \n",
            "0  An individual carrying two decreased function ...    ABCG2  \n",
            "1  An individual carrying two normal function all...    ABCG2  \n",
            "2  An individual carrying one normal function all...    ABCG2  \n",
            "3  An individual negative for a CACNA1S malignant...  CACNA1S  \n",
            "4  An individual homozygous or compound heterozyg...  CACNA1S  \n"
          ]
        }
      ]
    },
    {
      "cell_type": "markdown",
      "source": [
        "This code snippet uploads and loads gene and phenotype data files into the Google Colab environment, using files.upload() to import the Excel files and pd.read_excel() to convert them into pandas DataFrames. It then provides a preliminary exploration by displaying the first few rows of each dataset with the .head() method. This step ensures the data is correctly loaded and offers an initial glimpse into the structure and content of the data, laying the groundwork for subsequent analysis or modeling tasks."
      ],
      "metadata": {
        "id": "GjpSTaXL2D3Y"
      }
    },
    {
      "cell_type": "markdown",
      "source": [
        "**2.Handling Missing Data**"
      ],
      "metadata": {
        "id": "Hhv4NDIb2J6g"
      }
    },
    {
      "cell_type": "code",
      "source": [
        "# Filling NaNs with the median value for numeric columns\n",
        "phenotypes_df_filled = phenotype_data.fillna(phenotype_data.median(numeric_only=True))\n",
        "genes_df_filled = gene_data.fillna(gene_data.median(numeric_only=True))\n",
        "\n",
        "# Filling remaining NaNs with 'Unknown'\n",
        "phenotypes_df_filled = phenotypes_df_filled.fillna('Unknown')\n",
        "genes_df_filled = genes_df_filled.fillna('Unknown')\n",
        "\n",
        "# Verify that all NaNs have been filled\n",
        "phenotypes_nan_check = phenotypes_df_filled.isna().sum()\n",
        "genes_nan_check = genes_df_filled.isna().sum()\n",
        "\n",
        "\n",
        "print(phenotypes_nan_check)\n",
        "print(genes_nan_check)\n"
      ],
      "metadata": {
        "colab": {
          "base_uri": "https://localhost:8080/"
        },
        "id": "xDa7hCBoXhZ7",
        "outputId": "5c2c6973-6342-4f3d-b12f-6fadb594ab47"
      },
      "execution_count": 3,
      "outputs": [
        {
          "output_type": "stream",
          "name": "stdout",
          "text": [
            "Allele 1 Function          0\n",
            "Allele 2 Function          0\n",
            "Activity Value Allele 1    0\n",
            "Activity Value Allele 2    0\n",
            "Activity Score             0\n",
            "Phenotype                  0\n",
            "Description                0\n",
            "Gene                       0\n",
            "dtype: int64\n",
            "Gene                            0\n",
            "Phenotype                       0\n",
            "Activity Score                  0\n",
            "EHR Priority Result Notation    0\n",
            "Consultation Text               0\n",
            "dtype: int64\n"
          ]
        }
      ]
    },
    {
      "cell_type": "markdown",
      "source": [
        "This code handles missing data in the gene and phenotype datasets by first filling NaN values in numeric columns with their respective median values. This approach is chosen because the median is a robust statistic that minimizes the impact of outliers, ensuring that the central tendency of the data is preserved. For any remaining NaN values, particularly in non-numeric columns, the code fills them with the placeholder 'Unknown'. This ensures that all missing data is addressed, allowing subsequent analysis or modeling to proceed without issues related to incomplete data. Finally, the code verifies that no NaN values remain, confirming the completeness of the datasets."
      ],
      "metadata": {
        "id": "N1pZodwW2YSV"
      }
    },
    {
      "cell_type": "markdown",
      "source": [
        "**3.Data Integration and Verification**"
      ],
      "metadata": {
        "id": "aYFoc8sp2dwF"
      }
    },
    {
      "cell_type": "code",
      "source": [
        "from google.colab import drive\n",
        "drive.mount('/content/drive')\n",
        "\n",
        "# Combine the datasets on the 'Gene' column\n",
        "combined_data = pd.merge(genes_df_filled , phenotypes_df_filled, on='Gene')\n",
        "\n",
        "# Display the first few rows of the combined dataframe\n",
        "print(\"Combined Data:\")\n",
        "print(combined_data.head())\n",
        "\n",
        "# Print column names to check for correct target column\n",
        "print(\"Columns in combined data:\")\n",
        "print(combined_data.columns)"
      ],
      "metadata": {
        "colab": {
          "base_uri": "https://localhost:8080/"
        },
        "id": "KpZbCpy6-9hP",
        "outputId": "5f68888d-5a98-476d-9048-094c3d7a715a"
      },
      "execution_count": 4,
      "outputs": [
        {
          "output_type": "stream",
          "name": "stdout",
          "text": [
            "Drive already mounted at /content/drive; to attempt to forcibly remount, call drive.mount(\"/content/drive\", force_remount=True).\n",
            "Combined Data:\n",
            "    Gene         Phenotype_x Activity Score_x EHR Priority Result Notation  \\\n",
            "0  ABCG2  Decreased Function          Unknown  Abnormal/Priority/High Risk   \n",
            "1  ABCG2  Decreased Function          Unknown  Abnormal/Priority/High Risk   \n",
            "2  ABCG2  Decreased Function          Unknown  Abnormal/Priority/High Risk   \n",
            "3  ABCG2     Normal Function          Unknown      Normal/Routine/Low Risk   \n",
            "4  ABCG2     Normal Function          Unknown      Normal/Routine/Low Risk   \n",
            "\n",
            "                                   Consultation Text   Allele 1 Function  \\\n",
            "0  This result signifies that the patient has one...  Decreased function   \n",
            "1  This result signifies that the patient has one...     Normal function   \n",
            "2  This result signifies that the patient has one...     Normal function   \n",
            "3  This result signifies that the patient has two...  Decreased function   \n",
            "4  This result signifies that the patient has two...     Normal function   \n",
            "\n",
            "    Allele 2 Function Activity Value Allele 1 Activity Value Allele 2  \\\n",
            "0  Decreased function                 Unknown                 Unknown   \n",
            "1     Normal function                 Unknown                 Unknown   \n",
            "2  Decreased function                 Unknown                 Unknown   \n",
            "3  Decreased function                 Unknown                 Unknown   \n",
            "4     Normal function                 Unknown                 Unknown   \n",
            "\n",
            "  Activity Score_y               Phenotype_y  \\\n",
            "0          Unknown       ABCG2 Poor Function   \n",
            "1          Unknown     ABCG2 Normal Function   \n",
            "2          Unknown  ABCG2 Decreased Function   \n",
            "3          Unknown       ABCG2 Poor Function   \n",
            "4          Unknown     ABCG2 Normal Function   \n",
            "\n",
            "                                         Description  \n",
            "0  An individual carrying two decreased function ...  \n",
            "1  An individual carrying two normal function all...  \n",
            "2  An individual carrying one normal function all...  \n",
            "3  An individual carrying two decreased function ...  \n",
            "4  An individual carrying two normal function all...  \n",
            "Columns in combined data:\n",
            "Index(['Gene', 'Phenotype_x', 'Activity Score_x',\n",
            "       'EHR Priority Result Notation', 'Consultation Text',\n",
            "       'Allele 1 Function', 'Allele 2 Function', 'Activity Value Allele 1',\n",
            "       'Activity Value Allele 2', 'Activity Score_y', 'Phenotype_y',\n",
            "       'Description'],\n",
            "      dtype='object')\n"
          ]
        }
      ]
    },
    {
      "cell_type": "markdown",
      "source": [
        "This code integrates the gene and phenotype datasets by mounting Google Drive to the Colab environment and merging the datasets on the 'Gene' column, ensuring a combined view of the data. The pd.merge() function is used to create a single DataFrame that includes both gene-related and phenotype-related information, facilitating more comprehensive analysis. The code then displays the first few rows of the combined data to verify the successful merge. Additionally, it lists all column names to confirm the presence and correctness of the target and other important columns, ensuring that the data structure is ready for subsequent processing and modeling tasks."
      ],
      "metadata": {
        "id": "UgxsXYgG2qNc"
      }
    },
    {
      "cell_type": "markdown",
      "source": [
        "**4.Feature Selection and Target Identification**"
      ],
      "metadata": {
        "id": "9EolfO8C2z8T"
      }
    },
    {
      "cell_type": "code",
      "source": [
        "# Use the correct column name for the target variable\n",
        "target_column = 'Phenotype_x'\n",
        "\n",
        "# Include 'Phenotype_y' as a feature\n",
        "X = combined_data.drop(columns=[target_column])  # Keep 'Phenotype_y' in features\n",
        "y = combined_data[target_column]"
      ],
      "metadata": {
        "id": "_8ZQ7mkpJwaM"
      },
      "execution_count": 5,
      "outputs": []
    },
    {
      "cell_type": "code",
      "source": [],
      "metadata": {
        "id": "SGsWsIsI4Xwx"
      },
      "execution_count": 5,
      "outputs": []
    },
    {
      "cell_type": "markdown",
      "source": [
        "In this section, the correct target variable is identified and separated from the feature set in the combined dataset. The target column, named 'Phenotype_x', is extracted and assigned to the variable y, which will be used as the dependent variable in subsequent modeling. The remaining columns, including 'Phenotype_y', are kept as features and assigned to the variable X. This step ensures that the data is properly organized, with a clear distinction between the features and the target variable, enabling effective model training and evaluation in the next stages."
      ],
      "metadata": {
        "id": "HqDTsGEG3Yea"
      }
    },
    {
      "cell_type": "markdown",
      "source": [
        "**5.\n",
        "Label Encoding and Saving**"
      ],
      "metadata": {
        "id": "wCpnadzt3uwE"
      }
    },
    {
      "cell_type": "code",
      "source": [
        "from sklearn.preprocessing import LabelEncoder\n",
        "import joblib\n",
        "\n",
        "# Initialize LabelEncoders for all object type columns\n",
        "label_encoders = {}\n",
        "\n",
        "for column in X.select_dtypes(include=['object']).columns:\n",
        "    le = LabelEncoder()\n",
        "    X[column] = le.fit_transform(X[column])\n",
        "    label_encoders[column] = le\n",
        "\n",
        "# Encode the target variable\n",
        "target_encoder = LabelEncoder()\n",
        "y = target_encoder.fit_transform(y)\n",
        "\n",
        "# Save the label encoders\n",
        "encoders_path = r'C:\\Users\\ijaz ahammed\\OneDrive\\Attachments\\Desktop\\Ammu\\New folder (2)\\encoders.pkl'\n",
        "joblib.dump(label_encoders, encoders_path)\n",
        "# Save the target encoder\n",
        "target_encoder_path = r'C:\\Users\\ijaz ahammed\\OneDrive\\Attachments\\Desktop\\Ammu\\New folder (2)\\target_encoder.pkl'\n",
        "joblib.dump(target_encoder, target_encoder_path)\n",
        "\n"
      ],
      "metadata": {
        "id": "kHNymq3bCuqe",
        "colab": {
          "base_uri": "https://localhost:8080/"
        },
        "outputId": "c5f2c5f9-3a5e-4170-ab96-596f3171795d"
      },
      "execution_count": 6,
      "outputs": [
        {
          "output_type": "execute_result",
          "data": {
            "text/plain": [
              "['C:\\\\Users\\\\ijaz ahammed\\\\OneDrive\\\\Attachments\\\\Desktop\\\\Ammu\\\\New folder (2)\\\\target_encoder.pkl']"
            ]
          },
          "metadata": {},
          "execution_count": 6
        }
      ]
    },
    {
      "cell_type": "markdown",
      "source": [
        "This code applies label encoding to categorical columns in the feature set X and the target variable y, converting them into numeric values suitable for modeling. The encoders are stored in a dictionary and saved using joblib.dump() for future use, ensuring consistency in data processing.\n",
        "\n",
        "\n",
        "\n",
        "\n",
        "\n",
        "\n"
      ],
      "metadata": {
        "id": "QyuyzAw44f_c"
      }
    },
    {
      "cell_type": "markdown",
      "source": [
        "**6.Data Normalization and Splitting**"
      ],
      "metadata": {
        "id": "CvS2-Fwr4j0h"
      }
    },
    {
      "cell_type": "code",
      "source": [
        "from sklearn.model_selection import train_test_split\n",
        "import joblib\n",
        "from sklearn.preprocessing import LabelEncoder, StandardScaler\n",
        "import pandas as pd\n",
        "from sklearn.preprocessing import StandardScaler\n",
        "\n",
        "# Normalize the feature data\n",
        "scaler = StandardScaler()\n",
        "X_scaled = scaler.fit_transform(X)\n",
        "\n",
        "# Save the scaler\n",
        "scaler_path = r'C:\\Users\\ijaz ahammed\\OneDrive\\Attachments\\Desktop\\Ammu\\New folder (2)\\scaler.pkl'\n",
        "joblib.dump(scaler, scaler_path)\n",
        "print(\"Scalers and encoders saved successfully.\")\n",
        "\n",
        "# Split the data into training and testing sets\n",
        "X_train, X_test, y_train, y_test = train_test_split(X_scaled, y, test_size=0.2, random_state=42)"
      ],
      "metadata": {
        "id": "Dv8mcCthC3gU",
        "colab": {
          "base_uri": "https://localhost:8080/"
        },
        "outputId": "ad302a86-c29b-4dbe-daa9-8103f390a4fc"
      },
      "execution_count": 7,
      "outputs": [
        {
          "output_type": "stream",
          "name": "stdout",
          "text": [
            "Scalers and encoders saved successfully.\n"
          ]
        }
      ]
    },
    {
      "cell_type": "markdown",
      "source": [
        "This code normalizes the feature data using StandardScaler, ensuring that all features have a mean of 0 and a standard deviation of 1, which is crucial for many machine learning algorithms. The scaler is then saved with joblib.dump() for future use, maintaining consistency in data processing. After normalization, the data is split into training and testing sets using train_test_split, with 80% allocated for training and 20% for testing, allowing for effective model training and evaluation."
      ],
      "metadata": {
        "id": "gbnJt2JZ4vjX"
      }
    },
    {
      "cell_type": "markdown",
      "source": [
        "\n",
        "**7.Model Definition, Training, and Evaluation**"
      ],
      "metadata": {
        "id": "_k34MHRV4zPh"
      }
    },
    {
      "cell_type": "code",
      "source": [
        "import tensorflow as tf\n",
        "from tensorflow.keras.models import Sequential\n",
        "from tensorflow.keras.layers import Dense, Dropout\n",
        "\n",
        "# Define the model\n",
        "model = Sequential([\n",
        "    Dense(128, activation='relu', input_shape=(X_train.shape[1],)),\n",
        "    Dropout(0.2),\n",
        "    Dense(64, activation='relu'),\n",
        "    Dropout(0.2),\n",
        "    Dense(len(target_encoder.classes_), activation='softmax')  # For multi-class classification\n",
        "])\n",
        "\n",
        "# Compile the model\n",
        "model.compile(optimizer='adam', loss='sparse_categorical_crossentropy', metrics=['accuracy'])\n",
        "\n",
        "# Train the model\n",
        "history = model.fit(X_train, y_train, epochs=50, batch_size=32, validation_split=0.2)\n",
        "\n",
        "# Evaluate the model\n",
        "test_loss, test_accuracy = model.evaluate(X_test, y_test)\n",
        "print(f'Test Accuracy: {test_accuracy}')"
      ],
      "metadata": {
        "colab": {
          "base_uri": "https://localhost:8080/"
        },
        "id": "1nM_ZSqJC_4Q",
        "outputId": "7a69363f-5bf0-4e2d-f080-48409d08a82c"
      },
      "execution_count": 8,
      "outputs": [
        {
          "output_type": "stream",
          "name": "stderr",
          "text": [
            "/usr/local/lib/python3.10/dist-packages/keras/src/layers/core/dense.py:87: UserWarning: Do not pass an `input_shape`/`input_dim` argument to a layer. When using Sequential models, prefer using an `Input(shape)` object as the first layer in the model instead.\n",
            "  super().__init__(activity_regularizer=activity_regularizer, **kwargs)\n"
          ]
        },
        {
          "output_type": "stream",
          "name": "stdout",
          "text": [
            "Epoch 1/50\n",
            "\u001b[1m33/33\u001b[0m \u001b[32m━━━━━━━━━━━━━━━━━━━━\u001b[0m\u001b[37m\u001b[0m \u001b[1m3s\u001b[0m 16ms/step - accuracy: 0.1358 - loss: 3.0361 - val_accuracy: 0.5364 - val_loss: 2.1556\n",
            "Epoch 2/50\n",
            "\u001b[1m33/33\u001b[0m \u001b[32m━━━━━━━━━━━━━━━━━━━━\u001b[0m\u001b[37m\u001b[0m \u001b[1m0s\u001b[0m 6ms/step - accuracy: 0.5300 - loss: 1.9551 - val_accuracy: 0.6897 - val_loss: 1.3748\n",
            "Epoch 3/50\n",
            "\u001b[1m33/33\u001b[0m \u001b[32m━━━━━━━━━━━━━━━━━━━━\u001b[0m\u001b[37m\u001b[0m \u001b[1m0s\u001b[0m 5ms/step - accuracy: 0.6727 - loss: 1.3857 - val_accuracy: 0.7318 - val_loss: 1.0254\n",
            "Epoch 4/50\n",
            "\u001b[1m33/33\u001b[0m \u001b[32m━━━━━━━━━━━━━━━━━━━━\u001b[0m\u001b[37m\u001b[0m \u001b[1m0s\u001b[0m 3ms/step - accuracy: 0.7144 - loss: 0.9943 - val_accuracy: 0.7165 - val_loss: 0.8852\n",
            "Epoch 5/50\n",
            "\u001b[1m33/33\u001b[0m \u001b[32m━━━━━━━━━━━━━━━━━━━━\u001b[0m\u001b[37m\u001b[0m \u001b[1m0s\u001b[0m 3ms/step - accuracy: 0.7135 - loss: 0.9392 - val_accuracy: 0.7241 - val_loss: 0.8035\n",
            "Epoch 6/50\n",
            "\u001b[1m33/33\u001b[0m \u001b[32m━━━━━━━━━━━━━━━━━━━━\u001b[0m\u001b[37m\u001b[0m \u001b[1m0s\u001b[0m 3ms/step - accuracy: 0.7292 - loss: 0.8271 - val_accuracy: 0.7510 - val_loss: 0.7496\n",
            "Epoch 7/50\n",
            "\u001b[1m33/33\u001b[0m \u001b[32m━━━━━━━━━━━━━━━━━━━━\u001b[0m\u001b[37m\u001b[0m \u001b[1m0s\u001b[0m 3ms/step - accuracy: 0.7431 - loss: 0.7841 - val_accuracy: 0.7395 - val_loss: 0.7154\n",
            "Epoch 8/50\n",
            "\u001b[1m33/33\u001b[0m \u001b[32m━━━━━━━━━━━━━━━━━━━━\u001b[0m\u001b[37m\u001b[0m \u001b[1m0s\u001b[0m 3ms/step - accuracy: 0.7712 - loss: 0.6678 - val_accuracy: 0.7625 - val_loss: 0.6836\n",
            "Epoch 9/50\n",
            "\u001b[1m33/33\u001b[0m \u001b[32m━━━━━━━━━━━━━━━━━━━━\u001b[0m\u001b[37m\u001b[0m \u001b[1m0s\u001b[0m 3ms/step - accuracy: 0.7748 - loss: 0.6607 - val_accuracy: 0.7510 - val_loss: 0.6515\n",
            "Epoch 10/50\n",
            "\u001b[1m33/33\u001b[0m \u001b[32m━━━━━━━━━━━━━━━━━━━━\u001b[0m\u001b[37m\u001b[0m \u001b[1m0s\u001b[0m 4ms/step - accuracy: 0.7664 - loss: 0.6886 - val_accuracy: 0.7778 - val_loss: 0.6366\n",
            "Epoch 11/50\n",
            "\u001b[1m33/33\u001b[0m \u001b[32m━━━━━━━━━━━━━━━━━━━━\u001b[0m\u001b[37m\u001b[0m \u001b[1m0s\u001b[0m 3ms/step - accuracy: 0.7639 - loss: 0.6803 - val_accuracy: 0.7969 - val_loss: 0.6097\n",
            "Epoch 12/50\n",
            "\u001b[1m33/33\u001b[0m \u001b[32m━━━━━━━━━━━━━━━━━━━━\u001b[0m\u001b[37m\u001b[0m \u001b[1m0s\u001b[0m 3ms/step - accuracy: 0.7675 - loss: 0.6320 - val_accuracy: 0.7739 - val_loss: 0.5962\n",
            "Epoch 13/50\n",
            "\u001b[1m33/33\u001b[0m \u001b[32m━━━━━━━━━━━━━━━━━━━━\u001b[0m\u001b[37m\u001b[0m \u001b[1m0s\u001b[0m 3ms/step - accuracy: 0.7626 - loss: 0.6292 - val_accuracy: 0.7931 - val_loss: 0.5738\n",
            "Epoch 14/50\n",
            "\u001b[1m33/33\u001b[0m \u001b[32m━━━━━━━━━━━━━━━━━━━━\u001b[0m\u001b[37m\u001b[0m \u001b[1m0s\u001b[0m 4ms/step - accuracy: 0.7873 - loss: 0.5876 - val_accuracy: 0.7854 - val_loss: 0.5632\n",
            "Epoch 15/50\n",
            "\u001b[1m33/33\u001b[0m \u001b[32m━━━━━━━━━━━━━━━━━━━━\u001b[0m\u001b[37m\u001b[0m \u001b[1m0s\u001b[0m 4ms/step - accuracy: 0.7957 - loss: 0.5574 - val_accuracy: 0.8123 - val_loss: 0.5426\n",
            "Epoch 16/50\n",
            "\u001b[1m33/33\u001b[0m \u001b[32m━━━━━━━━━━━━━━━━━━━━\u001b[0m\u001b[37m\u001b[0m \u001b[1m0s\u001b[0m 4ms/step - accuracy: 0.8050 - loss: 0.5799 - val_accuracy: 0.8008 - val_loss: 0.5351\n",
            "Epoch 17/50\n",
            "\u001b[1m33/33\u001b[0m \u001b[32m━━━━━━━━━━━━━━━━━━━━\u001b[0m\u001b[37m\u001b[0m \u001b[1m0s\u001b[0m 4ms/step - accuracy: 0.7913 - loss: 0.5391 - val_accuracy: 0.8008 - val_loss: 0.5174\n",
            "Epoch 18/50\n",
            "\u001b[1m33/33\u001b[0m \u001b[32m━━━━━━━━━━━━━━━━━━━━\u001b[0m\u001b[37m\u001b[0m \u001b[1m0s\u001b[0m 4ms/step - accuracy: 0.7990 - loss: 0.5433 - val_accuracy: 0.8161 - val_loss: 0.5132\n",
            "Epoch 19/50\n",
            "\u001b[1m33/33\u001b[0m \u001b[32m━━━━━━━━━━━━━━━━━━━━\u001b[0m\u001b[37m\u001b[0m \u001b[1m0s\u001b[0m 3ms/step - accuracy: 0.8004 - loss: 0.5150 - val_accuracy: 0.8199 - val_loss: 0.5022\n",
            "Epoch 20/50\n",
            "\u001b[1m33/33\u001b[0m \u001b[32m━━━━━━━━━━━━━━━━━━━━\u001b[0m\u001b[37m\u001b[0m \u001b[1m0s\u001b[0m 4ms/step - accuracy: 0.8141 - loss: 0.5128 - val_accuracy: 0.8123 - val_loss: 0.4937\n",
            "Epoch 21/50\n",
            "\u001b[1m33/33\u001b[0m \u001b[32m━━━━━━━━━━━━━━━━━━━━\u001b[0m\u001b[37m\u001b[0m \u001b[1m0s\u001b[0m 4ms/step - accuracy: 0.8040 - loss: 0.5015 - val_accuracy: 0.8008 - val_loss: 0.4890\n",
            "Epoch 22/50\n",
            "\u001b[1m33/33\u001b[0m \u001b[32m━━━━━━━━━━━━━━━━━━━━\u001b[0m\u001b[37m\u001b[0m \u001b[1m0s\u001b[0m 3ms/step - accuracy: 0.8120 - loss: 0.5044 - val_accuracy: 0.8199 - val_loss: 0.4760\n",
            "Epoch 23/50\n",
            "\u001b[1m33/33\u001b[0m \u001b[32m━━━━━━━━━━━━━━━━━━━━\u001b[0m\u001b[37m\u001b[0m \u001b[1m0s\u001b[0m 3ms/step - accuracy: 0.8061 - loss: 0.4988 - val_accuracy: 0.8199 - val_loss: 0.4705\n",
            "Epoch 24/50\n",
            "\u001b[1m33/33\u001b[0m \u001b[32m━━━━━━━━━━━━━━━━━━━━\u001b[0m\u001b[37m\u001b[0m \u001b[1m0s\u001b[0m 4ms/step - accuracy: 0.8263 - loss: 0.4586 - val_accuracy: 0.8238 - val_loss: 0.4542\n",
            "Epoch 25/50\n",
            "\u001b[1m33/33\u001b[0m \u001b[32m━━━━━━━━━━━━━━━━━━━━\u001b[0m\u001b[37m\u001b[0m \u001b[1m0s\u001b[0m 3ms/step - accuracy: 0.8137 - loss: 0.4746 - val_accuracy: 0.8238 - val_loss: 0.4532\n",
            "Epoch 26/50\n",
            "\u001b[1m33/33\u001b[0m \u001b[32m━━━━━━━━━━━━━━━━━━━━\u001b[0m\u001b[37m\u001b[0m \u001b[1m0s\u001b[0m 4ms/step - accuracy: 0.8362 - loss: 0.4300 - val_accuracy: 0.8199 - val_loss: 0.4469\n",
            "Epoch 27/50\n",
            "\u001b[1m33/33\u001b[0m \u001b[32m━━━━━━━━━━━━━━━━━━━━\u001b[0m\u001b[37m\u001b[0m \u001b[1m0s\u001b[0m 3ms/step - accuracy: 0.8261 - loss: 0.4679 - val_accuracy: 0.8161 - val_loss: 0.4350\n",
            "Epoch 28/50\n",
            "\u001b[1m33/33\u001b[0m \u001b[32m━━━━━━━━━━━━━━━━━━━━\u001b[0m\u001b[37m\u001b[0m \u001b[1m0s\u001b[0m 4ms/step - accuracy: 0.8085 - loss: 0.4847 - val_accuracy: 0.8199 - val_loss: 0.4394\n",
            "Epoch 29/50\n",
            "\u001b[1m33/33\u001b[0m \u001b[32m━━━━━━━━━━━━━━━━━━━━\u001b[0m\u001b[37m\u001b[0m \u001b[1m0s\u001b[0m 3ms/step - accuracy: 0.8291 - loss: 0.4371 - val_accuracy: 0.8161 - val_loss: 0.4238\n",
            "Epoch 30/50\n",
            "\u001b[1m33/33\u001b[0m \u001b[32m━━━━━━━━━━━━━━━━━━━━\u001b[0m\u001b[37m\u001b[0m \u001b[1m0s\u001b[0m 3ms/step - accuracy: 0.8426 - loss: 0.4124 - val_accuracy: 0.8199 - val_loss: 0.4195\n",
            "Epoch 31/50\n",
            "\u001b[1m33/33\u001b[0m \u001b[32m━━━━━━━━━━━━━━━━━━━━\u001b[0m\u001b[37m\u001b[0m \u001b[1m0s\u001b[0m 3ms/step - accuracy: 0.8179 - loss: 0.4248 - val_accuracy: 0.8352 - val_loss: 0.4023\n",
            "Epoch 32/50\n",
            "\u001b[1m33/33\u001b[0m \u001b[32m━━━━━━━━━━━━━━━━━━━━\u001b[0m\u001b[37m\u001b[0m \u001b[1m0s\u001b[0m 3ms/step - accuracy: 0.8732 - loss: 0.3625 - val_accuracy: 0.8276 - val_loss: 0.3976\n",
            "Epoch 33/50\n",
            "\u001b[1m33/33\u001b[0m \u001b[32m━━━━━━━━━━━━━━━━━━━━\u001b[0m\u001b[37m\u001b[0m \u001b[1m0s\u001b[0m 3ms/step - accuracy: 0.8481 - loss: 0.3866 - val_accuracy: 0.8352 - val_loss: 0.3979\n",
            "Epoch 34/50\n",
            "\u001b[1m33/33\u001b[0m \u001b[32m━━━━━━━━━━━━━━━━━━━━\u001b[0m\u001b[37m\u001b[0m \u001b[1m0s\u001b[0m 4ms/step - accuracy: 0.8214 - loss: 0.4298 - val_accuracy: 0.8199 - val_loss: 0.3893\n",
            "Epoch 35/50\n",
            "\u001b[1m33/33\u001b[0m \u001b[32m━━━━━━━━━━━━━━━━━━━━\u001b[0m\u001b[37m\u001b[0m \u001b[1m0s\u001b[0m 3ms/step - accuracy: 0.8626 - loss: 0.3632 - val_accuracy: 0.8276 - val_loss: 0.3868\n",
            "Epoch 36/50\n",
            "\u001b[1m33/33\u001b[0m \u001b[32m━━━━━━━━━━━━━━━━━━━━\u001b[0m\u001b[37m\u001b[0m \u001b[1m0s\u001b[0m 4ms/step - accuracy: 0.8481 - loss: 0.4001 - val_accuracy: 0.8352 - val_loss: 0.3770\n",
            "Epoch 37/50\n",
            "\u001b[1m33/33\u001b[0m \u001b[32m━━━━━━━━━━━━━━━━━━━━\u001b[0m\u001b[37m\u001b[0m \u001b[1m0s\u001b[0m 4ms/step - accuracy: 0.8476 - loss: 0.3807 - val_accuracy: 0.8276 - val_loss: 0.3757\n",
            "Epoch 38/50\n",
            "\u001b[1m33/33\u001b[0m \u001b[32m━━━━━━━━━━━━━━━━━━━━\u001b[0m\u001b[37m\u001b[0m \u001b[1m0s\u001b[0m 4ms/step - accuracy: 0.8582 - loss: 0.3481 - val_accuracy: 0.8238 - val_loss: 0.3704\n",
            "Epoch 39/50\n",
            "\u001b[1m33/33\u001b[0m \u001b[32m━━━━━━━━━━━━━━━━━━━━\u001b[0m\u001b[37m\u001b[0m \u001b[1m0s\u001b[0m 3ms/step - accuracy: 0.8431 - loss: 0.3763 - val_accuracy: 0.8352 - val_loss: 0.3688\n",
            "Epoch 40/50\n",
            "\u001b[1m33/33\u001b[0m \u001b[32m━━━━━━━━━━━━━━━━━━━━\u001b[0m\u001b[37m\u001b[0m \u001b[1m0s\u001b[0m 3ms/step - accuracy: 0.8339 - loss: 0.4011 - val_accuracy: 0.8276 - val_loss: 0.3608\n",
            "Epoch 41/50\n",
            "\u001b[1m33/33\u001b[0m \u001b[32m━━━━━━━━━━━━━━━━━━━━\u001b[0m\u001b[37m\u001b[0m \u001b[1m0s\u001b[0m 4ms/step - accuracy: 0.8515 - loss: 0.3711 - val_accuracy: 0.8352 - val_loss: 0.3580\n",
            "Epoch 42/50\n",
            "\u001b[1m33/33\u001b[0m \u001b[32m━━━━━━━━━━━━━━━━━━━━\u001b[0m\u001b[37m\u001b[0m \u001b[1m0s\u001b[0m 3ms/step - accuracy: 0.8544 - loss: 0.3354 - val_accuracy: 0.8314 - val_loss: 0.3577\n",
            "Epoch 43/50\n",
            "\u001b[1m33/33\u001b[0m \u001b[32m━━━━━━━━━━━━━━━━━━━━\u001b[0m\u001b[37m\u001b[0m \u001b[1m0s\u001b[0m 4ms/step - accuracy: 0.8596 - loss: 0.3430 - val_accuracy: 0.8314 - val_loss: 0.3496\n",
            "Epoch 44/50\n",
            "\u001b[1m33/33\u001b[0m \u001b[32m━━━━━━━━━━━━━━━━━━━━\u001b[0m\u001b[37m\u001b[0m \u001b[1m0s\u001b[0m 4ms/step - accuracy: 0.8400 - loss: 0.3842 - val_accuracy: 0.8314 - val_loss: 0.3386\n",
            "Epoch 45/50\n",
            "\u001b[1m33/33\u001b[0m \u001b[32m━━━━━━━━━━━━━━━━━━━━\u001b[0m\u001b[37m\u001b[0m \u001b[1m0s\u001b[0m 4ms/step - accuracy: 0.8414 - loss: 0.3790 - val_accuracy: 0.8314 - val_loss: 0.3438\n",
            "Epoch 46/50\n",
            "\u001b[1m33/33\u001b[0m \u001b[32m━━━━━━━━━━━━━━━━━━━━\u001b[0m\u001b[37m\u001b[0m \u001b[1m0s\u001b[0m 3ms/step - accuracy: 0.8658 - loss: 0.3238 - val_accuracy: 0.8391 - val_loss: 0.3417\n",
            "Epoch 47/50\n",
            "\u001b[1m33/33\u001b[0m \u001b[32m━━━━━━━━━━━━━━━━━━━━\u001b[0m\u001b[37m\u001b[0m \u001b[1m0s\u001b[0m 3ms/step - accuracy: 0.8503 - loss: 0.3581 - val_accuracy: 0.8429 - val_loss: 0.3320\n",
            "Epoch 48/50\n",
            "\u001b[1m33/33\u001b[0m \u001b[32m━━━━━━━━━━━━━━━━━━━━\u001b[0m\u001b[37m\u001b[0m \u001b[1m0s\u001b[0m 4ms/step - accuracy: 0.8413 - loss: 0.3374 - val_accuracy: 0.8199 - val_loss: 0.3320\n",
            "Epoch 49/50\n",
            "\u001b[1m33/33\u001b[0m \u001b[32m━━━━━━━━━━━━━━━━━━━━\u001b[0m\u001b[37m\u001b[0m \u001b[1m0s\u001b[0m 3ms/step - accuracy: 0.8626 - loss: 0.3454 - val_accuracy: 0.8621 - val_loss: 0.3291\n",
            "Epoch 50/50\n",
            "\u001b[1m33/33\u001b[0m \u001b[32m━━━━━━━━━━━━━━━━━━━━\u001b[0m\u001b[37m\u001b[0m \u001b[1m0s\u001b[0m 4ms/step - accuracy: 0.8748 - loss: 0.3064 - val_accuracy: 0.8582 - val_loss: 0.3237\n",
            "\u001b[1m11/11\u001b[0m \u001b[32m━━━━━━━━━━━━━━━━━━━━\u001b[0m\u001b[37m\u001b[0m \u001b[1m0s\u001b[0m 2ms/step - accuracy: 0.8710 - loss: 0.3304 \n",
            "Test Accuracy: 0.8680981397628784\n"
          ]
        }
      ]
    },
    {
      "cell_type": "markdown",
      "source": [
        "This code defines and trains a deep learning model using TensorFlow and Keras. The model is a sequential neural network with two hidden layers, each followed by a dropout layer to prevent overfitting. The output layer uses a softmax activation function, making it suitable for multi-class classification. The model is compiled with the Adam optimizer and sparse_categorical_crossentropy loss, optimized for classification tasks. It is trained on the normalized feature data, with 20% of the training data used for validation. After training, the model's performance is evaluated on the test set, and the test accuracy is printed.\n",
        "\n",
        "\n",
        "\n",
        "\n",
        "\n",
        "\n",
        "\n"
      ],
      "metadata": {
        "id": "wZqsaZ3E5Cgq"
      }
    },
    {
      "cell_type": "markdown",
      "source": [
        "**8.Model Performance Visualization**"
      ],
      "metadata": {
        "id": "qrYvpUh55Ie1"
      }
    },
    {
      "cell_type": "code",
      "source": [
        "#Visualization\n",
        "import matplotlib.pyplot as plt\n",
        "\n",
        "# Plot training & validation accuracy values\n",
        "plt.plot(history.history['accuracy'])\n",
        "plt.plot(history.history['val_accuracy'])\n",
        "plt.title('Model accuracy')\n",
        "plt.ylabel('Accuracy')\n",
        "plt.xlabel('Epoch')\n",
        "plt.legend(['Train', 'Validation'], loc='upper left')\n",
        "plt.show()\n",
        "\n",
        "# Plot training & validation loss values\n",
        "plt.plot(history.history['loss'])\n",
        "plt.plot(history.history['val_loss'])\n",
        "plt.title('Model loss')\n",
        "plt.ylabel('Loss')\n",
        "plt.xlabel('Epoch')\n",
        "plt.legend(['Train', 'Validation'], loc='upper left')\n",
        "plt.show()"
      ],
      "metadata": {
        "colab": {
          "base_uri": "https://localhost:8080/",
          "height": 927
        },
        "id": "pfRVnI5zDCSg",
        "outputId": "ac071eec-7810-4923-b81d-d4f199a8caff"
      },
      "execution_count": 9,
      "outputs": [
        {
          "output_type": "display_data",
          "data": {
            "text/plain": [
              "<Figure size 640x480 with 1 Axes>"
            ],
            "image/png": "[encoded data removed]"
          },
          "metadata": {}
        },
        {
          "output_type": "display_data",
          "data": {
            "text/plain": [
              "<Figure size 640x480 with 1 Axes>"
            ],
            "image/png": "[encoded data removed]"
          },
          "metadata": {}
        }
      ]
    },
    {
      "cell_type": "markdown",
      "source": [
        "This code visualizes the training process of the neural network by plotting the accuracy and loss over each epoch. Two plots are generated: the first shows the training and validation accuracy, and the second displays the training and validation loss. These plots help in assessing the model's learning behavior, identifying trends like overfitting or underfitting, and providing insights into the model's performance across different stages of training. The use of matplotlib allows for clear and informative visual representation of the model's accuracy and loss over time."
      ],
      "metadata": {
        "id": "kQzsxfEG5YHI"
      }
    },
    {
      "cell_type": "markdown",
      "source": [
        "**9.Model Evaluation Metrics**"
      ],
      "metadata": {
        "id": "m8uF09SE5bFo"
      }
    },
    {
      "cell_type": "code",
      "source": [
        "import numpy as np\n",
        "from sklearn.metrics import confusion_matrix, classification_report\n",
        "\n",
        "# Predict on the test set\n",
        "y_pred = model.predict(X_test)\n",
        "y_pred_classes = np.argmax(y_pred, axis=1)\n",
        "\n",
        "# Get unique classes from true labels and predicted labels\n",
        "unique_true_classes = np.unique(y_test)\n",
        "unique_pred_classes = np.unique(y_pred_classes)\n",
        "\n",
        "# Generate the confusion matrix\n",
        "conf_matrix = confusion_matrix(y_test, y_pred_classes, labels=unique_true_classes)\n",
        "print(\"Confusion Matrix:\")\n",
        "print(conf_matrix)\n",
        "\n"
      ],
      "metadata": {
        "colab": {
          "base_uri": "https://localhost:8080/"
        },
        "id": "C1wYPZZLDF3o",
        "outputId": "4f01ceae-fa28-4509-99ed-300b24baf456"
      },
      "execution_count": 10,
      "outputs": [
        {
          "output_type": "stream",
          "name": "stdout",
          "text": [
            "\u001b[1m11/11\u001b[0m \u001b[32m━━━━━━━━━━━━━━━━━━━━\u001b[0m\u001b[37m\u001b[0m \u001b[1m0s\u001b[0m 5ms/step \n",
            "Confusion Matrix:\n",
            "[[ 0  0  0  2  0  0  0  0  0  0  0  0  0  0  0  0  0  0  0]\n",
            " [ 0  0  0  0  0  0  0  0  0  0  0  0  0  0  0  0  0  0  0]\n",
            " [ 0  0  2  0  0  0  0  0  0  0  0  0  0  0  0  0  0  0  0]\n",
            " [ 0  0  0 27  0  0  0  0  0  0  0  0  0  0  0  0  2  0  0]\n",
            " [ 0  0  0  0 57  0  0  0  0  0  0  2  0  0  0  0  0  0  0]\n",
            " [ 0  0  0  0  1  0  1  0  0  0  0  0  0  0  0  0  0  0  0]\n",
            " [ 0  0  0  0  0  2  2  0  0  0  0  0  0  0  0  0  0  0  0]\n",
            " [ 0  0  0  0  0  0  0  3  0  0  0  0  0  0  0  0  0  0  0]\n",
            " [ 0  0  2  0  0  0  0  0  1  0  0  0  0  0  0  0  0  0  0]\n",
            " [ 0  0  0  0  0  0  0  0  2 56  0  0  0  0  0  0  0  0  0]\n",
            " [ 0  0  0  0  0  0  0  0  0  0  1  0  0  0  0  0  0  0  0]\n",
            " [ 0  0  0  0  4  0  0  0  0  2  2 28  0  0  0  0  0  0  0]\n",
            " [ 0  0  0  0  1  0  0  0  0  0  0  0  0  2  0  0  0  0  0]\n",
            " [ 0  0  0  0  1  0  0  0  0  0  0  0  0  4  0  0  0  0  0]\n",
            " [ 0  0  0  0  1  0  0  0  0  0  0  0  0  0  3  0  0  0  0]\n",
            " [ 0  0  0  0  0  0  0  0  0  3  0  0  0  0  0 99  0  0  0]\n",
            " [ 0  0  0  0  0  0  0  0  0  0  0  0  0  0  0  0  0  0  0]\n",
            " [ 0  0  0  1  0  0  0  0  0  0  0  0  0  0  0  0  0  0  0]\n",
            " [ 0  0  0  0  0  0  0  0  0  0  0  0  0  0  0  0  0  0  0]]\n"
          ]
        }
      ]
    },
    {
      "cell_type": "markdown",
      "source": [
        "This code evaluates the performance of the trained model by predicting labels for the test set and comparing them with the true labels. The predictions are obtained using the model’s predict method and converted to class labels with np.argmax(). A confusion matrix is then generated using confusion_matrix() from scikit-learn, which compares the true labels against the predicted labels. This matrix provides a detailed breakdown of the model's performance, showing how often predictions match the true labels and how errors are distributed across different classes."
      ],
      "metadata": {
        "id": "oQ9L8pGF5jeP"
      }
    },
    {
      "cell_type": "markdown",
      "source": [
        " **10.\n",
        "Confusion Matrix Visualization**"
      ],
      "metadata": {
        "id": "2J9Bt1Fa5mcM"
      }
    },
    {
      "cell_type": "code",
      "source": [
        "\n",
        "import numpy as np\n",
        "from sklearn.metrics import confusion_matrix, ConfusionMatrixDisplay, classification_report\n",
        "\n",
        "# Predict on the test set\n",
        "y_pred = model.predict(X_test)\n",
        "y_pred_classes = np.argmax(y_pred, axis=1)\n",
        "\n",
        "# Generate the confusion matrix\n",
        "conf_matrix = confusion_matrix(y_test, y_pred_classes)\n",
        "\n",
        "# Optionally, visualize the confusion matrix\n",
        "disp = ConfusionMatrixDisplay(confusion_matrix=conf_matrix)\n",
        "disp.plot(cmap=plt.cm.Blues)\n",
        "plt.show()\n",
        "\n"
      ],
      "metadata": {
        "colab": {
          "base_uri": "https://localhost:8080/",
          "height": 467
        },
        "id": "iz2dPmzva_0e",
        "outputId": "e6afcc23-a4f7-4f8a-9a77-0994f9023733"
      },
      "execution_count": 11,
      "outputs": [
        {
          "output_type": "stream",
          "name": "stdout",
          "text": [
            "\u001b[1m11/11\u001b[0m \u001b[32m━━━━━━━━━━━━━━━━━━━━\u001b[0m\u001b[37m\u001b[0m \u001b[1m0s\u001b[0m 2ms/step \n"
          ]
        },
        {
          "output_type": "display_data",
          "data": {
            "text/plain": [
              "<Figure size 640x480 with 2 Axes>"
            ],
            "image/png": "[encoded data removed]"
          },
          "metadata": {}
        }
      ]
    },
    {
      "cell_type": "markdown",
      "source": [
        "This code evaluates the model's predictions by generating and displaying a confusion matrix. Predictions are made on the test set, and class labels are determined using np.argmax(). The confusion matrix is computed with confusion_matrix() and visualized using ConfusionMatrixDisplay. The plot() method with a color map provides a clear graphical representation of the confusion matrix, allowing for easy interpretation of classification performance, including the identification of misclassified instances and the distribution of errors across different classes."
      ],
      "metadata": {
        "id": "O1EhtcM65zAv"
      }
    },
    {
      "cell_type": "markdown",
      "source": [
        "**11.Classification Report**"
      ],
      "metadata": {
        "id": "6VZXW7Rl51g-"
      }
    },
    {
      "cell_type": "code",
      "source": [
        "# Convert unique class indices to actual class names using target encoder\n",
        "actual_target_names = target_encoder.inverse_transform(unique_true_classes)\n",
        "\n",
        "# Ensure all target names are strings\n",
        "actual_target_names = [str(name) for name in actual_target_names]\n",
        "\n",
        "# Generate the classification report using the correct labels and target names\n",
        "class_report = classification_report(y_test, y_pred_classes, labels=unique_true_classes, target_names=actual_target_names)\n",
        "print(\"\\nClassification Report:\")\n",
        "print(class_report)"
      ],
      "metadata": {
        "colab": {
          "base_uri": "https://localhost:8080/"
        },
        "id": "hj0NYXRBDKG0",
        "outputId": "50aa86d8-4365-470f-eab9-74a7d45d18e2"
      },
      "execution_count": 12,
      "outputs": [
        {
          "output_type": "stream",
          "name": "stdout",
          "text": [
            "\n",
            "Classification Report:\n",
            "                                                       precision    recall  f1-score   support\n",
            "\n",
            "                                   Decreased Function       0.00      0.00      0.00         2\n",
            "                                 Deficient with CNSHA       0.00      0.00      0.00         4\n",
            "                                   Increased Function       0.50      1.00      0.67         2\n",
            "                                        Indeterminate       0.90      0.84      0.87        32\n",
            "                             Intermediate Metabolizer       0.88      0.97      0.92        59\n",
            "                      Likely Intermediate Metabolizer       0.00      0.00      0.00         2\n",
            "                              Likely Poor Metabolizer       0.67      0.50      0.57         4\n",
            "                                               Normal       1.00      1.00      1.00         3\n",
            "                                      Normal Function       0.33      0.33      0.33         3\n",
            "                                   Normal Metabolizer       0.92      0.97      0.94        58\n",
            "                                        Poor Function       0.33      1.00      0.50         1\n",
            "                                     Poor Metabolizer       0.93      0.78      0.85        36\n",
            "                          Possible Decreased Function       0.00      0.00      0.00         3\n",
            "                    Possible Intermediate Metabolizer       0.67      0.80      0.73         5\n",
            "                                    Rapid Metabolizer       1.00      0.75      0.86         4\n",
            "                               Ultrarapid Metabolizer       1.00      0.97      0.99       102\n",
            "                                             Variable       0.00      0.00      0.00         4\n",
            "increased risk of aminoglycoside-induced hearing loss       0.00      0.00      0.00         1\n",
            "   normal risk of aminoglycoside-induced hearing loss       0.00      0.00      0.00         1\n",
            "\n",
            "                                            micro avg       0.90      0.87      0.88       326\n",
            "                                            macro avg       0.48      0.52      0.49       326\n",
            "                                         weighted avg       0.87      0.87      0.87       326\n",
            "\n"
          ]
        },
        {
          "output_type": "stream",
          "name": "stderr",
          "text": [
            "/usr/local/lib/python3.10/dist-packages/sklearn/metrics/_classification.py:1471: UndefinedMetricWarning: Precision and F-score are ill-defined and being set to 0.0 in labels with no predicted samples. Use `zero_division` parameter to control this behavior.\n",
            "  _warn_prf(average, modifier, msg_start, len(result))\n",
            "/usr/local/lib/python3.10/dist-packages/sklearn/metrics/_classification.py:1471: UndefinedMetricWarning: Precision and F-score are ill-defined and being set to 0.0 in labels with no predicted samples. Use `zero_division` parameter to control this behavior.\n",
            "  _warn_prf(average, modifier, msg_start, len(result))\n",
            "/usr/local/lib/python3.10/dist-packages/sklearn/metrics/_classification.py:1471: UndefinedMetricWarning: Precision and F-score are ill-defined and being set to 0.0 in labels with no predicted samples. Use `zero_division` parameter to control this behavior.\n",
            "  _warn_prf(average, modifier, msg_start, len(result))\n"
          ]
        }
      ]
    },
    {
      "cell_type": "markdown",
      "source": [
        "This code generates and prints a detailed classification report to evaluate the performance of the model. It first converts the unique class indices to actual class names using the target_encoder's inverse_transform() method. The class names are then ensured to be strings for consistency. The classification_report() function from scikit-learn is used to produce a report that includes precision, recall, f1-score, and support for each class. This comprehensive report provides insights into the model's performance across different classes, highlighting areas where it performs well or needs improvement."
      ],
      "metadata": {
        "id": "4r7rE3Yw6A2U"
      }
    },
    {
      "cell_type": "markdown",
      "source": [
        "**12.Hyperparameter Tuning**"
      ],
      "metadata": {
        "id": "fuj8v8Pb6Dn-"
      }
    },
    {
      "cell_type": "code",
      "source": [
        "# Define a function to build the model with different hyperparameters\n",
        "def build_model(hp):\n",
        "    model = Sequential()\n",
        "    model.add(Dense(units=hp.Int('units', min_value=32, max_value=512, step=32),\n",
        "                    activation='relu', input_shape=(X_train.shape[1],)))\n",
        "    model.add(Dropout(hp.Float('dropout', min_value=0.0, max_value=0.5, step=0.1)))\n",
        "    model.add(Dense(len(target_encoder.classes_), activation='softmax'))\n",
        "    model.compile(optimizer=hp.Choice('optimizer', ['adam', 'rmsprop']),\n",
        "                  loss='sparse_categorical_crossentropy',\n",
        "                  metrics=['accuracy'])\n",
        "    return model\n",
        "\n",
        "# Perform hyperparameter search\n",
        "tuner = RandomSearch(build_model,\n",
        "                     objective='val_accuracy',\n",
        "                     max_trials=10,\n",
        "                     executions_per_trial=2,\n",
        "                     directory='my_dir',\n",
        "                     project_name='hyperparam_tuning')\n",
        "tuner.search(X_train, y_train, epochs=50, validation_split=0.2)\n",
        "best_hps = tuner.get_best_hyperparameters(num_trials=1)[0]\n",
        "\n",
        "# Print best hyperparameters\n",
        "print(f\"The best number of units is {best_hps.get('units')}\")\n",
        "print(f\"The best dropout rate is {best_hps.get('dropout')}\")\n",
        "print(f\"The best optimizer is {best_hps.get('optimizer')}\")\n",
        "\n"
      ],
      "metadata": {
        "colab": {
          "base_uri": "https://localhost:8080/"
        },
        "id": "0GLLN5fYDPBV",
        "outputId": "188196c1-8e6f-4434-ef8b-39de665c81cc"
      },
      "execution_count": 13,
      "outputs": [
        {
          "output_type": "stream",
          "name": "stdout",
          "text": [
            "Trial 10 Complete [00h 00m 25s]\n",
            "val_accuracy: 0.8620689809322357\n",
            "\n",
            "Best val_accuracy So Far: 0.8639846742153168\n",
            "Total elapsed time: 00h 04m 27s\n",
            "The best number of units is 512\n",
            "The best dropout rate is 0.2\n",
            "The best optimizer is rmsprop\n"
          ]
        }
      ]
    },
    {
      "cell_type": "markdown",
      "source": [
        "This code defines a function to build a neural network model with tunable hyperparameters using Keras Tuner. The build_model function allows for varying the number of units in the dense layer, the dropout rate, and the optimizer type. Keras Tuner's RandomSearch is used to explore different hyperparameter combinations, aiming to maximize validation accuracy. The search is configured to test up to 10 different hyperparameter sets, with each set being evaluated across 2 executions. After the search, the best hyperparameters are retrieved and printed, providing insights into the optimal model configuration for the given dataset."
      ],
      "metadata": {
        "id": "HVVD_ksu6L3W"
      }
    },
    {
      "cell_type": "markdown",
      "source": [
        "**13.Model Definition with Input Layer**"
      ],
      "metadata": {
        "id": "YE6YDTnS6PCy"
      }
    },
    {
      "cell_type": "code",
      "source": [
        "#Cross-validation\n",
        "from tensorflow.keras.layers import Input\n",
        "\n",
        "def create_model():\n",
        "    model = Sequential()\n",
        "    model.add(Input(shape=(X_train.shape[1],)))  # Use Input layer for defining input shape\n",
        "    model.add(Dense(128, activation='relu'))\n",
        "    model.add(Dropout(0.2))\n",
        "    model.add(Dense(64, activation='relu'))\n",
        "    model.add(Dropout(0.2))\n",
        "    model.add(Dense(len(target_encoder.classes_), activation='softmax'))\n",
        "    model.compile(optimizer='adam', loss='sparse_categorical_crossentropy', metrics=['accuracy'])\n",
        "    return model"
      ],
      "metadata": {
        "id": "Ztg4ltqDDR6H"
      },
      "execution_count": 14,
      "outputs": []
    },
    {
      "cell_type": "markdown",
      "source": [
        "This code defines a function create_model() to build a neural network model using Keras. The model architecture includes an Input layer to explicitly define the input shape, followed by two dense layers with ReLU activation and dropout layers to prevent overfitting. The final layer uses a softmax activation function for multi-class classification. The model is compiled with the Adam optimizer and sparse_categorical_crossentropy loss. This function provides a reusable blueprint for creating models, which can be utilized in cross-validation or other experimental setups to evaluate model performance across different data splits."
      ],
      "metadata": {
        "id": "Khmh-skU6Z2i"
      }
    },
    {
      "cell_type": "markdown",
      "source": [
        "**14.Custom Keras Classifier and Cross-Validation**"
      ],
      "metadata": {
        "id": "31JOUSc86dpA"
      }
    },
    {
      "cell_type": "code",
      "source": [
        "from sklearn.base import BaseEstimator, ClassifierMixin\n",
        "from sklearn.model_selection import cross_val_score\n",
        "\n",
        "class CustomKerasClassifier(BaseEstimator, ClassifierMixin):\n",
        "    def __init__(self, build_fn=None, epochs=1, batch_size=32, verbose=0, **kwargs):\n",
        "        self.build_fn = build_fn\n",
        "        self.epochs = epochs\n",
        "        self.batch_size = batch_size\n",
        "        self.verbose = verbose\n",
        "        self.kwargs = kwargs\n",
        "        self.model_ = None\n",
        "\n",
        "    def fit(self, X, y, **kwargs):\n",
        "        self.model_ = self.build_fn()\n",
        "        self.model_.fit(X, y, epochs=self.epochs, batch_size=self.batch_size, verbose=self.verbose, **kwargs)\n",
        "        return self\n",
        "\n",
        "    def predict(self, X, **kwargs):\n",
        "        return np.argmax(self.model_.predict(X), axis=-1)\n",
        "\n",
        "    def score(self, X, y, **kwargs):\n",
        "        return self.model_.evaluate(X, y, verbose=self.verbose, **kwargs)[1]\n",
        "\n",
        "# Re-instantiate and use the custom classifier\n",
        "model = CustomKerasClassifier(build_fn=create_model, epochs=50, batch_size=32, verbose=0)\n",
        "\n",
        "# Run cross-validation\n",
        "scores = cross_val_score(model, X_scaled, y, cv=5)\n",
        "print(f\"Cross-Validation Accuracy: {scores.mean()} ± {scores.std()}\")"
      ],
      "metadata": {
        "colab": {
          "base_uri": "https://localhost:8080/"
        },
        "id": "oGflbEy-EII5",
        "outputId": "1c0bcaac-a1c7-45d7-fdae-316c6ee6a6ec"
      },
      "execution_count": 15,
      "outputs": [
        {
          "output_type": "stream",
          "name": "stderr",
          "text": [
            "/usr/local/lib/python3.10/dist-packages/sklearn/model_selection/_split.py:737: UserWarning: The least populated class in y has only 3 members, which is less than n_splits=5.\n",
            "  warnings.warn(\n"
          ]
        },
        {
          "output_type": "stream",
          "name": "stdout",
          "text": [
            "Cross-Validation Accuracy: 0.7511845231056213 ± 0.1502855327018086\n"
          ]
        }
      ]
    },
    {
      "cell_type": "markdown",
      "source": [
        "This code defines a custom scikit-learn estimator, CustomKerasClassifier, that wraps a Keras model for integration with scikit-learn's tools. The classifier supports model fitting, prediction, and scoring, with a flexible API to specify the model-building function, number of epochs, batch size, and verbosity.\n",
        "\n",
        "The fit method trains the model using the specified parameters, while predict generates predictions and score evaluates the model's accuracy. After defining this custom classifier, it is instantiated with the create_model function and used to perform cross-validation with 5 folds. The cross-validation accuracy is computed and displayed, providing an assessment of the model's performance across different data subsets."
      ],
      "metadata": {
        "id": "ENxGI5dW6pg-"
      }
    },
    {
      "cell_type": "markdown",
      "source": [
        "**15.Final Model Training and Saving**"
      ],
      "metadata": {
        "id": "ufG3tRz96t16"
      }
    },
    {
      "cell_type": "code",
      "source": [
        "# Define the model with the best hyperparameters\n",
        "best_model = Sequential([\n",
        "    Input(shape=(X_train.shape[1],)),\n",
        "    Dense(units=best_hps.get('units'), activation='relu'),\n",
        "    Dropout(best_hps.get('dropout')),\n",
        "    Dense(len(target_encoder.classes_), activation='softmax')\n",
        "])\n",
        "# Compile the model\n",
        "best_model.compile(optimizer=best_hps.get('optimizer'),\n",
        "                   loss='sparse_categorical_crossentropy',\n",
        "                   metrics=['accuracy'])\n",
        "# Train the model\n",
        "best_model.fit(X_scaled, y, epochs=50, batch_size=32, validation_split=0.2)\n",
        "\n",
        "# Evaluate the model\n",
        "test_loss, test_accuracy = best_model.evaluate(X_test, y_test)\n",
        "print(f'Test Accuracy: {test_accuracy}')\n",
        "\n",
        "# Save the model in the new format\n",
        "best_model.save(\"final_model.keras\")\n",
        "\n"
      ],
      "metadata": {
        "colab": {
          "base_uri": "https://localhost:8080/"
        },
        "id": "BI5jafgfEKDS",
        "outputId": "b279ab4b-f22a-4325-b206-37b881c45281"
      },
      "execution_count": 16,
      "outputs": [
        {
          "output_type": "stream",
          "name": "stdout",
          "text": [
            "Epoch 1/50\n",
            "\u001b[1m41/41\u001b[0m \u001b[32m━━━━━━━━━━━━━━━━━━━━\u001b[0m\u001b[37m\u001b[0m \u001b[1m1s\u001b[0m 7ms/step - accuracy: 0.5563 - loss: 2.1447 - val_accuracy: 0.1656 - val_loss: 3.1204\n",
            "Epoch 2/50\n",
            "\u001b[1m41/41\u001b[0m \u001b[32m━━━━━━━━━━━━━━━━━━━━\u001b[0m\u001b[37m\u001b[0m \u001b[1m0s\u001b[0m 3ms/step - accuracy: 0.8302 - loss: 0.7510 - val_accuracy: 0.1902 - val_loss: 3.4014\n",
            "Epoch 3/50\n",
            "\u001b[1m41/41\u001b[0m \u001b[32m━━━━━━━━━━━━━━━━━━━━\u001b[0m\u001b[37m\u001b[0m \u001b[1m0s\u001b[0m 3ms/step - accuracy: 0.8430 - loss: 0.4664 - val_accuracy: 0.2086 - val_loss: 3.7697\n",
            "Epoch 4/50\n",
            "\u001b[1m41/41\u001b[0m \u001b[32m━━━━━━━━━━━━━━━━━━━━\u001b[0m\u001b[37m\u001b[0m \u001b[1m0s\u001b[0m 4ms/step - accuracy: 0.8665 - loss: 0.3954 - val_accuracy: 0.2147 - val_loss: 4.1337\n",
            "Epoch 5/50\n",
            "\u001b[1m41/41\u001b[0m \u001b[32m━━━━━━━━━━━━━━━━━━━━\u001b[0m\u001b[37m\u001b[0m \u001b[1m0s\u001b[0m 3ms/step - accuracy: 0.8874 - loss: 0.3301 - val_accuracy: 0.1871 - val_loss: 4.4934\n",
            "Epoch 6/50\n",
            "\u001b[1m41/41\u001b[0m \u001b[32m━━━━━━━━━━━━━━━━━━━━\u001b[0m\u001b[37m\u001b[0m \u001b[1m0s\u001b[0m 3ms/step - accuracy: 0.8817 - loss: 0.3133 - val_accuracy: 0.2025 - val_loss: 4.8541\n",
            "Epoch 7/50\n",
            "\u001b[1m41/41\u001b[0m \u001b[32m━━━━━━━━━━━━━━━━━━━━\u001b[0m\u001b[37m\u001b[0m \u001b[1m0s\u001b[0m 3ms/step - accuracy: 0.9153 - loss: 0.2680 - val_accuracy: 0.1963 - val_loss: 5.2307\n",
            "Epoch 8/50\n",
            "\u001b[1m41/41\u001b[0m \u001b[32m━━━━━━━━━━━━━━━━━━━━\u001b[0m\u001b[37m\u001b[0m \u001b[1m0s\u001b[0m 3ms/step - accuracy: 0.9140 - loss: 0.2565 - val_accuracy: 0.2055 - val_loss: 5.6030\n",
            "Epoch 9/50\n",
            "\u001b[1m41/41\u001b[0m \u001b[32m━━━━━━━━━━━━━━━━━━━━\u001b[0m\u001b[37m\u001b[0m \u001b[1m0s\u001b[0m 4ms/step - accuracy: 0.9435 - loss: 0.1989 - val_accuracy: 0.2423 - val_loss: 6.0147\n",
            "Epoch 10/50\n",
            "\u001b[1m41/41\u001b[0m \u001b[32m━━━━━━━━━━━━━━━━━━━━\u001b[0m\u001b[37m\u001b[0m \u001b[1m0s\u001b[0m 4ms/step - accuracy: 0.9228 - loss: 0.2086 - val_accuracy: 0.2362 - val_loss: 6.3725\n",
            "Epoch 11/50\n",
            "\u001b[1m41/41\u001b[0m \u001b[32m━━━━━━━━━━━━━━━━━━━━\u001b[0m\u001b[37m\u001b[0m \u001b[1m0s\u001b[0m 3ms/step - accuracy: 0.9335 - loss: 0.1876 - val_accuracy: 0.2454 - val_loss: 6.7284\n",
            "Epoch 12/50\n",
            "\u001b[1m41/41\u001b[0m \u001b[32m━━━━━━━━━━━━━━━━━━━━\u001b[0m\u001b[37m\u001b[0m \u001b[1m0s\u001b[0m 3ms/step - accuracy: 0.9437 - loss: 0.1646 - val_accuracy: 0.2209 - val_loss: 7.0167\n",
            "Epoch 13/50\n",
            "\u001b[1m41/41\u001b[0m \u001b[32m━━━━━━━━━━━━━━━━━━━━\u001b[0m\u001b[37m\u001b[0m \u001b[1m0s\u001b[0m 4ms/step - accuracy: 0.9378 - loss: 0.1782 - val_accuracy: 0.2147 - val_loss: 7.3903\n",
            "Epoch 14/50\n",
            "\u001b[1m41/41\u001b[0m \u001b[32m━━━━━━━━━━━━━━━━━━━━\u001b[0m\u001b[37m\u001b[0m \u001b[1m0s\u001b[0m 3ms/step - accuracy: 0.9337 - loss: 0.1706 - val_accuracy: 0.2209 - val_loss: 7.7256\n",
            "Epoch 15/50\n",
            "\u001b[1m41/41\u001b[0m \u001b[32m━━━━━━━━━━━━━━━━━━━━\u001b[0m\u001b[37m\u001b[0m \u001b[1m0s\u001b[0m 3ms/step - accuracy: 0.9433 - loss: 0.1644 - val_accuracy: 0.2178 - val_loss: 8.0505\n",
            "Epoch 16/50\n",
            "\u001b[1m41/41\u001b[0m \u001b[32m━━━━━━━━━━━━━━━━━━━━\u001b[0m\u001b[37m\u001b[0m \u001b[1m0s\u001b[0m 3ms/step - accuracy: 0.9365 - loss: 0.1636 - val_accuracy: 0.2178 - val_loss: 8.3751\n",
            "Epoch 17/50\n",
            "\u001b[1m41/41\u001b[0m \u001b[32m━━━━━━━━━━━━━━━━━━━━\u001b[0m\u001b[37m\u001b[0m \u001b[1m0s\u001b[0m 3ms/step - accuracy: 0.9548 - loss: 0.1201 - val_accuracy: 0.2209 - val_loss: 8.6389\n",
            "Epoch 18/50\n",
            "\u001b[1m41/41\u001b[0m \u001b[32m━━━━━━━━━━━━━━━━━━━━\u001b[0m\u001b[37m\u001b[0m \u001b[1m0s\u001b[0m 4ms/step - accuracy: 0.9409 - loss: 0.1503 - val_accuracy: 0.2178 - val_loss: 8.9615\n",
            "Epoch 19/50\n",
            "\u001b[1m41/41\u001b[0m \u001b[32m━━━━━━━━━━━━━━━━━━━━\u001b[0m\u001b[37m\u001b[0m \u001b[1m0s\u001b[0m 3ms/step - accuracy: 0.9505 - loss: 0.1472 - val_accuracy: 0.2086 - val_loss: 9.2849\n",
            "Epoch 20/50\n",
            "\u001b[1m41/41\u001b[0m \u001b[32m━━━━━━━━━━━━━━━━━━━━\u001b[0m\u001b[37m\u001b[0m \u001b[1m0s\u001b[0m 3ms/step - accuracy: 0.9535 - loss: 0.1223 - val_accuracy: 0.2086 - val_loss: 9.6155\n",
            "Epoch 21/50\n",
            "\u001b[1m41/41\u001b[0m \u001b[32m━━━━━━━━━━━━━━━━━━━━\u001b[0m\u001b[37m\u001b[0m \u001b[1m0s\u001b[0m 3ms/step - accuracy: 0.9437 - loss: 0.1459 - val_accuracy: 0.2178 - val_loss: 9.8210\n",
            "Epoch 22/50\n",
            "\u001b[1m41/41\u001b[0m \u001b[32m━━━━━━━━━━━━━━━━━━━━\u001b[0m\u001b[37m\u001b[0m \u001b[1m0s\u001b[0m 3ms/step - accuracy: 0.9511 - loss: 0.1298 - val_accuracy: 0.2178 - val_loss: 10.1142\n",
            "Epoch 23/50\n",
            "\u001b[1m41/41\u001b[0m \u001b[32m━━━━━━━━━━━━━━━━━━━━\u001b[0m\u001b[37m\u001b[0m \u001b[1m0s\u001b[0m 4ms/step - accuracy: 0.9569 - loss: 0.1221 - val_accuracy: 0.2178 - val_loss: 10.3523\n",
            "Epoch 24/50\n",
            "\u001b[1m41/41\u001b[0m \u001b[32m━━━━━━━━━━━━━━━━━━━━\u001b[0m\u001b[37m\u001b[0m \u001b[1m0s\u001b[0m 3ms/step - accuracy: 0.9606 - loss: 0.1084 - val_accuracy: 0.2178 - val_loss: 10.5013\n",
            "Epoch 25/50\n",
            "\u001b[1m41/41\u001b[0m \u001b[32m━━━━━━━━━━━━━━━━━━━━\u001b[0m\u001b[37m\u001b[0m \u001b[1m0s\u001b[0m 3ms/step - accuracy: 0.9585 - loss: 0.1137 - val_accuracy: 0.2178 - val_loss: 10.7995\n",
            "Epoch 26/50\n",
            "\u001b[1m41/41\u001b[0m \u001b[32m━━━━━━━━━━━━━━━━━━━━\u001b[0m\u001b[37m\u001b[0m \u001b[1m0s\u001b[0m 3ms/step - accuracy: 0.9718 - loss: 0.0966 - val_accuracy: 0.2331 - val_loss: 10.9175\n",
            "Epoch 27/50\n",
            "\u001b[1m41/41\u001b[0m \u001b[32m━━━━━━━━━━━━━━━━━━━━\u001b[0m\u001b[37m\u001b[0m \u001b[1m0s\u001b[0m 3ms/step - accuracy: 0.9560 - loss: 0.1162 - val_accuracy: 0.2117 - val_loss: 11.2952\n",
            "Epoch 28/50\n",
            "\u001b[1m41/41\u001b[0m \u001b[32m━━━━━━━━━━━━━━━━━━━━\u001b[0m\u001b[37m\u001b[0m \u001b[1m0s\u001b[0m 3ms/step - accuracy: 0.9594 - loss: 0.0934 - val_accuracy: 0.2147 - val_loss: 11.6268\n",
            "Epoch 29/50\n",
            "\u001b[1m41/41\u001b[0m \u001b[32m━━━━━━━━━━━━━━━━━━━━\u001b[0m\u001b[37m\u001b[0m \u001b[1m0s\u001b[0m 3ms/step - accuracy: 0.9613 - loss: 0.0886 - val_accuracy: 0.2025 - val_loss: 11.6868\n",
            "Epoch 30/50\n",
            "\u001b[1m41/41\u001b[0m \u001b[32m━━━━━━━━━━━━━━━━━━━━\u001b[0m\u001b[37m\u001b[0m \u001b[1m0s\u001b[0m 3ms/step - accuracy: 0.9651 - loss: 0.1069 - val_accuracy: 0.1871 - val_loss: 11.8967\n",
            "Epoch 31/50\n",
            "\u001b[1m41/41\u001b[0m \u001b[32m━━━━━━━━━━━━━━━━━━━━\u001b[0m\u001b[37m\u001b[0m \u001b[1m0s\u001b[0m 3ms/step - accuracy: 0.9598 - loss: 0.0982 - val_accuracy: 0.1994 - val_loss: 12.1689\n",
            "Epoch 32/50\n",
            "\u001b[1m41/41\u001b[0m \u001b[32m━━━━━━━━━━━━━━━━━━━━\u001b[0m\u001b[37m\u001b[0m \u001b[1m0s\u001b[0m 4ms/step - accuracy: 0.9687 - loss: 0.0942 - val_accuracy: 0.1994 - val_loss: 12.3812\n",
            "Epoch 33/50\n",
            "\u001b[1m41/41\u001b[0m \u001b[32m━━━━━━━━━━━━━━━━━━━━\u001b[0m\u001b[37m\u001b[0m \u001b[1m0s\u001b[0m 3ms/step - accuracy: 0.9683 - loss: 0.0831 - val_accuracy: 0.2025 - val_loss: 12.6514\n",
            "Epoch 34/50\n",
            "\u001b[1m41/41\u001b[0m \u001b[32m━━━━━━━━━━━━━━━━━━━━\u001b[0m\u001b[37m\u001b[0m \u001b[1m0s\u001b[0m 3ms/step - accuracy: 0.9640 - loss: 0.0855 - val_accuracy: 0.1779 - val_loss: 12.9010\n",
            "Epoch 35/50\n",
            "\u001b[1m41/41\u001b[0m \u001b[32m━━━━━━━━━━━━━━━━━━━━\u001b[0m\u001b[37m\u001b[0m \u001b[1m0s\u001b[0m 4ms/step - accuracy: 0.9629 - loss: 0.0916 - val_accuracy: 0.1595 - val_loss: 13.1056\n",
            "Epoch 36/50\n",
            "\u001b[1m41/41\u001b[0m \u001b[32m━━━━━━━━━━━━━━━━━━━━\u001b[0m\u001b[37m\u001b[0m \u001b[1m0s\u001b[0m 3ms/step - accuracy: 0.9657 - loss: 0.0796 - val_accuracy: 0.1748 - val_loss: 13.3633\n",
            "Epoch 37/50\n",
            "\u001b[1m41/41\u001b[0m \u001b[32m━━━━━━━━━━━━━━━━━━━━\u001b[0m\u001b[37m\u001b[0m \u001b[1m0s\u001b[0m 3ms/step - accuracy: 0.9742 - loss: 0.0758 - val_accuracy: 0.1810 - val_loss: 13.4969\n",
            "Epoch 38/50\n",
            "\u001b[1m41/41\u001b[0m \u001b[32m━━━━━━━━━━━━━━━━━━━━\u001b[0m\u001b[37m\u001b[0m \u001b[1m0s\u001b[0m 3ms/step - accuracy: 0.9701 - loss: 0.0826 - val_accuracy: 0.1748 - val_loss: 13.7587\n",
            "Epoch 39/50\n",
            "\u001b[1m41/41\u001b[0m \u001b[32m━━━━━━━━━━━━━━━━━━━━\u001b[0m\u001b[37m\u001b[0m \u001b[1m0s\u001b[0m 3ms/step - accuracy: 0.9720 - loss: 0.0707 - val_accuracy: 0.1595 - val_loss: 14.0100\n",
            "Epoch 40/50\n",
            "\u001b[1m41/41\u001b[0m \u001b[32m━━━━━━━━━━━━━━━━━━━━\u001b[0m\u001b[37m\u001b[0m \u001b[1m0s\u001b[0m 4ms/step - accuracy: 0.9731 - loss: 0.0802 - val_accuracy: 0.1626 - val_loss: 14.1601\n",
            "Epoch 41/50\n",
            "\u001b[1m41/41\u001b[0m \u001b[32m━━━━━━━━━━━━━━━━━━━━\u001b[0m\u001b[37m\u001b[0m \u001b[1m0s\u001b[0m 3ms/step - accuracy: 0.9813 - loss: 0.0744 - val_accuracy: 0.1595 - val_loss: 14.3785\n",
            "Epoch 42/50\n",
            "\u001b[1m41/41\u001b[0m \u001b[32m━━━━━━━━━━━━━━━━━━━━\u001b[0m\u001b[37m\u001b[0m \u001b[1m0s\u001b[0m 6ms/step - accuracy: 0.9720 - loss: 0.0722 - val_accuracy: 0.1718 - val_loss: 14.5631\n",
            "Epoch 43/50\n",
            "\u001b[1m41/41\u001b[0m \u001b[32m━━━━━━━━━━━━━━━━━━━━\u001b[0m\u001b[37m\u001b[0m \u001b[1m0s\u001b[0m 7ms/step - accuracy: 0.9822 - loss: 0.0620 - val_accuracy: 0.1656 - val_loss: 14.6856\n",
            "Epoch 44/50\n",
            "\u001b[1m41/41\u001b[0m \u001b[32m━━━━━━━━━━━━━━━━━━━━\u001b[0m\u001b[37m\u001b[0m \u001b[1m1s\u001b[0m 7ms/step - accuracy: 0.9788 - loss: 0.0738 - val_accuracy: 0.1564 - val_loss: 15.0213\n",
            "Epoch 45/50\n",
            "\u001b[1m41/41\u001b[0m \u001b[32m━━━━━━━━━━━━━━━━━━━━\u001b[0m\u001b[37m\u001b[0m \u001b[1m1s\u001b[0m 6ms/step - accuracy: 0.9758 - loss: 0.0731 - val_accuracy: 0.1564 - val_loss: 15.1947\n",
            "Epoch 46/50\n",
            "\u001b[1m41/41\u001b[0m \u001b[32m━━━━━━━━━━━━━━━━━━━━\u001b[0m\u001b[37m\u001b[0m \u001b[1m0s\u001b[0m 5ms/step - accuracy: 0.9679 - loss: 0.0706 - val_accuracy: 0.1564 - val_loss: 15.4245\n",
            "Epoch 47/50\n",
            "\u001b[1m41/41\u001b[0m \u001b[32m━━━━━━━━━━━━━━━━━━━━\u001b[0m\u001b[37m\u001b[0m \u001b[1m0s\u001b[0m 7ms/step - accuracy: 0.9763 - loss: 0.0729 - val_accuracy: 0.1779 - val_loss: 15.4839\n",
            "Epoch 48/50\n",
            "\u001b[1m41/41\u001b[0m \u001b[32m━━━━━━━━━━━━━━━━━━━━\u001b[0m\u001b[37m\u001b[0m \u001b[1m0s\u001b[0m 7ms/step - accuracy: 0.9842 - loss: 0.0670 - val_accuracy: 0.1656 - val_loss: 15.6772\n",
            "Epoch 49/50\n",
            "\u001b[1m41/41\u001b[0m \u001b[32m━━━━━━━━━━━━━━━━━━━━\u001b[0m\u001b[37m\u001b[0m \u001b[1m1s\u001b[0m 8ms/step - accuracy: 0.9836 - loss: 0.0650 - val_accuracy: 0.1810 - val_loss: 15.8594\n",
            "Epoch 50/50\n",
            "\u001b[1m41/41\u001b[0m \u001b[32m━━━━━━━━━━━━━━━━━━━━\u001b[0m\u001b[37m\u001b[0m \u001b[1m0s\u001b[0m 3ms/step - accuracy: 0.9800 - loss: 0.0594 - val_accuracy: 0.1718 - val_loss: 16.1094\n",
            "\u001b[1m11/11\u001b[0m \u001b[32m━━━━━━━━━━━━━━━━━━━━\u001b[0m\u001b[37m\u001b[0m \u001b[1m0s\u001b[0m 2ms/step - accuracy: 0.8341 - loss: 3.2988 \n",
            "Test Accuracy: 0.8404908180236816\n"
          ]
        }
      ]
    },
    {
      "cell_type": "markdown",
      "source": [
        "This code builds and trains a neural network using the best hyperparameters identified from the hyperparameter tuning process. The model architecture includes an input layer, a dense layer with the optimal number of units and dropout rate, and a softmax output layer for multi-class classification. The model is compiled with the best optimizer and trained on the scaled dataset with a validation split to monitor performance.\n",
        "\n",
        "After training, the model is evaluated on the test set to determine its accuracy, and the results are printed. Finally, the trained model is saved in the Keras .keras format for future use or deployment."
      ],
      "metadata": {
        "id": "tulMVkck69vg"
      }
    },
    {
      "cell_type": "markdown",
      "source": [
        "**16.Unique Gene Names and Phenotypes**"
      ],
      "metadata": {
        "id": "pvxoTBtD7Bkn"
      }
    },
    {
      "cell_type": "code",
      "source": [
        "# Print unique gene names\n",
        "print(\"Available Genes:\")\n",
        "print(combined_data['Gene'].unique())\n",
        "\n",
        "# Print unique phenotypes\n",
        "print(\"\\nAvailable Phenotypes:\")\n",
        "print(combined_data['Phenotype_y'].unique())"
      ],
      "metadata": {
        "colab": {
          "base_uri": "https://localhost:8080/"
        },
        "id": "fV-IhZilSqxG",
        "outputId": "85c7c4ec-2cbe-4574-d5bf-97f1f3b9cc27"
      },
      "execution_count": 22,
      "outputs": [
        {
          "output_type": "stream",
          "name": "stdout",
          "text": [
            "Available Genes:\n",
            "['ABCG2' 'CACNA1S' 'CYP2B6' 'CYP2C9' 'CYP2C19' 'CYP2D6' 'CYP3A5' 'DPYD'\n",
            " 'G6PD' 'MT-RNR1' 'NUDT15' 'SLCO1B1' 'TPMT']\n",
            "\n",
            "Available Phenotypes:\n",
            "['ABCG2 Poor Function' 'ABCG2 Normal Function' 'ABCG2 Decreased Function'\n",
            " 'CACNA1S Uncertain Susceptibility'\n",
            " 'CACNA1S Malignant Hyperthermia Susceptibility'\n",
            " 'CYP2B6 Ultrarapid Metabolizer' 'CYP2B6 Rapid Metabolizer'\n",
            " 'CYP2B6 Poor Metabolizer' 'CYP2B6 Normal Metabolizer'\n",
            " 'CYP2B6 Intermediate Metabolizer' 'CYP2B6 Indeterminate'\n",
            " 'CYP2C9 Normal Metabolizer' 'CYP2C9 Intermediate Metabolizer'\n",
            " 'CYP2C9 Poor Metabolizer' 'CYP2C9 Indeterminate'\n",
            " 'CYP2C19 Ultrarapid Metabolizer' 'CYP2C19 Rapid Metabolizer'\n",
            " 'CYP2C19 Poor Metabolizer' 'CYP2C19 Normal Metabolizer'\n",
            " 'CYP2C19 Likely Poor Metabolizer'\n",
            " 'CYP2C19 Likely Intermediate Metabolizer'\n",
            " 'CYP2C19 Intermediate Metabolizer' 'CYP2C19 Indeterminate'\n",
            " 'CYP2D6 Ultrarapid Metabolizer' 'CYP2D6 Normal Metabolizer'\n",
            " 'CYP2D6 Intermediate Metabolizer' 'CYP2D6 Poor Metabolizer'\n",
            " 'CYP2D6 Indeterminate' 'CYP3A5 Possible Intermediate Metabolizer'\n",
            " 'CYP3A5 Poor Metabolizer' 'CYP3A5 Normal Metabolizer'\n",
            " 'CYP3A5 Intermediate Metabolizer' 'CYP3A5 Indeterminate'\n",
            " 'DPYD Normal Metabolizer' 'DPYD Intermediate Metabolizer'\n",
            " 'DPYD Poor Metabolizer' 'G6PD Variable' 'G6PD Normal'\n",
            " 'G6PD Indeterminate' 'G6PD Deficient with CNSHA' 'G6PD Deficient'\n",
            " 'MT-RNR1 uncertain risk of aminoglycoside-induced hearing loss'\n",
            " 'MT-RNR1 normal risk of aminoglycoside-induced hearing loss'\n",
            " 'MT-RNR1 increased risk of aminoglycoside-induced hearing loss'\n",
            " 'NUDT15 Possible Intermediate Metabolizer' 'NUDT15 Poor Metabolizer'\n",
            " 'NUDT15 Normal Metabolizer' 'NUDT15 Intermediate Metabolizer'\n",
            " 'NUDT15 Indeterminate' 'SLCO1B1 Possible Decreased Function'\n",
            " 'SLCO1B1 Poor Function' 'SLCO1B1 Normal Function' 'SLCO1B1 Indeterminate'\n",
            " 'SLCO1B1 Increased Function' 'SLCO1B1 Decreased Function'\n",
            " 'TPMT Possible Intermediate Metabolizer' 'TPMT Poor Metabolizer'\n",
            " 'TPMT Normal Metabolizer' 'TPMT Intermediate Metabolizer'\n",
            " 'TPMT Indeterminate']\n"
          ]
        }
      ]
    },
    {
      "cell_type": "markdown",
      "source": [
        "This code prints the unique gene names and phenotypes available in the combined dataset. It first lists all distinct gene names from the 'Gene' column, followed by unique phenotypes from the 'Phenotype_y' column. This information helps in understanding the diversity and range of categories present in the data, which can be useful for interpreting model results and for further data analysis or preprocessing."
      ],
      "metadata": {
        "id": "NKs_2hSJ7NH-"
      }
    },
    {
      "cell_type": "markdown",
      "source": [
        "**17.Prediction Function**"
      ],
      "metadata": {
        "id": "p6VN4heR7QNM"
      }
    },
    {
      "cell_type": "code",
      "source": [
        "#Prediction\n",
        "def predict_with_gene_phenotype(gene, phenotype, combined_data, model, scaler, label_encoders, target_encoder):\n",
        "    # Filter the row corresponding to the input gene and phenotype\n",
        "    gene_phenotype_row = combined_data[(combined_data['Gene'] == gene) & (combined_data['Phenotype_y'] == phenotype)]\n",
        "\n",
        "    if gene_phenotype_row.empty:\n",
        "        raise ValueError(\"Gene and Phenotype combination not found in the dataset.\")\n",
        "\n",
        "    # Drop the target column\n",
        "    gene_features = gene_phenotype_row.drop(columns=['Phenotype_x'])\n",
        "\n",
        "    # Encode categorical features\n",
        "    for column in gene_features.select_dtypes(include=['object']).columns:\n",
        "        if column in label_encoders:\n",
        "            le = label_encoders[column]\n",
        "            gene_features[column] = le.transform(gene_features[column])\n",
        "\n",
        "    # Scale the features\n",
        "    gene_features_scaled = scaler.transform(gene_features)\n",
        "\n",
        "    # Make predictions\n",
        "    predictions = model.predict(gene_features_scaled)\n",
        "    predicted_class = np.argmax(predictions, axis=1)\n",
        "\n",
        "    # Decode the predicted class\n",
        "    predicted_phenotype = target_encoder.inverse_transform(predicted_class)\n",
        "\n",
        "    # Create a dictionary for the output\n",
        "    # Create a dictionary for the output with additional information\n",
        "    output = {\n",
        "        'Gene': gene,\n",
        "        'Phenotype': phenotype,\n",
        "        'Predicted Phenotype_x': phenotype,\n",
        "        'Activity Score_x': gene_phenotype_row['Activity Score_x'].values[0],\n",
        "        'EHR Priority Result Notation': gene_phenotype_row['EHR Priority Result Notation'].values[0],\n",
        "        'Consultation Text': gene_phenotype_row['Consultation Text'].values[0],\n",
        "        'Allele 1 Function': gene_phenotype_row['Allele 1 Function'].values[0],\n",
        "        'Allele 2 Function': gene_phenotype_row['Allele 2 Function'].values[0],\n",
        "        'Activity Value Allele 1': gene_phenotype_row['Activity Value Allele 1'].values[0],\n",
        "        'Activity Value Allele 2': gene_phenotype_row['Activity Value Allele 2'].values[0],\n",
        "        'Description': gene_phenotype_row['Description'].values[0]\n",
        "    }\n",
        "    # Print output line by line\n",
        "    print(\"Prediction Results:\")\n",
        "    for key, value in output.items():\n",
        "        print(f\"{key}: {value}\")\n",
        "    return output\n",
        "# Take input for gene and phenotype from the user\n",
        "gene = input(\"Enter the gene : \")\n",
        "phenotype = input(\"Enter the phenotype: \")\n",
        "output = predict_with_gene_phenotype(gene, phenotype, combined_data, best_model, scaler, label_encoders, target_encoder)"
      ],
      "metadata": {
        "colab": {
          "base_uri": "https://localhost:8080/"
        },
        "id": "OeMhT9A6F82P",
        "outputId": "375c597c-c3cc-49e9-e994-7cb24cac8aaf"
      },
      "execution_count": 26,
      "outputs": [
        {
          "output_type": "stream",
          "name": "stdout",
          "text": [
            "Enter the gene : CYP2D6\n",
            "Enter the phenotype: CYP2D6 Ultrarapid Metabolizer\n",
            "\u001b[1m8/8\u001b[0m \u001b[32m━━━━━━━━━━━━━━━━━━━━\u001b[0m\u001b[37m\u001b[0m \u001b[1m0s\u001b[0m 2ms/step \n",
            "Prediction Results:\n",
            "Gene: CYP2D6\n",
            "Phenotype: CYP2D6 Ultrarapid Metabolizer\n",
            "Predicted Phenotype_x: CYP2D6 Ultrarapid Metabolizer\n",
            "Activity Score_x: Unknown\n",
            "EHR Priority Result Notation: none\n",
            "Consultation Text: This result signifies that the patient has an allele combination with uncertain and/or unknown function alleles. The expected phenotype for this patient cannot be determined currently based on the CYP2D6 diplotype result. Please consult a clinical pharmacist for more specific information about how CYP2D6 function influences drug dosing.\n",
            "Allele 1 Function: Increased function\n",
            "Allele 2 Function: Increased function\n",
            "Activity Value Allele 1: ≥3.0\n",
            "Activity Value Allele 2: ≥3.0\n",
            "Description: An individual carrying multiplications of normal function alleles\n"
          ]
        }
      ]
    },
    {
      "cell_type": "markdown",
      "source": [
        "This function, predict_with_gene_phenotype(), makes predictions based on a specified gene and phenotype. It filters the dataset for the given gene-phenotype pair, processes the features, and uses the trained model to predict the class. The results, including both the predicted and actual phenotypes along with additional attributes, are formatted into a dictionary and printed. The function is called with user input for gene and phenotype to provide predictions.\n",
        "\n",
        "\n",
        "\n",
        "\n",
        "\n",
        "\n",
        "\n"
      ],
      "metadata": {
        "id": "f2aZS03-7fRF"
      }
    },
    {
      "cell_type": "code",
      "source": [],
      "metadata": {
        "id": "9tD_-qekCj06"
      },
      "execution_count": null,
      "outputs": []
    }
  ]
}