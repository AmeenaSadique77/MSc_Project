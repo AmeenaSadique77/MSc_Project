{
  "nbformat": 4,
  "nbformat_minor": 0,
  "metadata": {
    "colab": {
      "provenance": []
    },
    "kernelspec": {
      "name": "python3",
      "display_name": "Python 3"
    },
    "language_info": {
      "name": "python"
    }
  },
  "cells": [
    {
      "cell_type": "markdown",
      "source": [
        " NAME :AMEENA SADIQUE\n",
        "\n",
        " STUDENT ID : SAD22603583"
      ],
      "metadata": {
        "id": "XNj34Wl7uCH4"
      }
    },
    {
      "cell_type": "code",
      "execution_count": 43,
      "metadata": {
        "colab": {
          "base_uri": "https://localhost:8080/"
        },
        "id": "PqNfDwCD0m8E",
        "outputId": "258c2add-13f3-4053-8a04-00687f9df47a"
      },
      "outputs": [
        {
          "output_type": "stream",
          "name": "stdout",
          "text": [
            "Requirement already satisfied: keras-tuner in /usr/local/lib/python3.10/dist-packages (1.4.7)\n",
            "Requirement already satisfied: keras in /usr/local/lib/python3.10/dist-packages (from keras-tuner) (2.15.0)\n",
            "Requirement already satisfied: packaging in /usr/local/lib/python3.10/dist-packages (from keras-tuner) (24.1)\n",
            "Requirement already satisfied: requests in /usr/local/lib/python3.10/dist-packages (from keras-tuner) (2.31.0)\n",
            "Requirement already satisfied: kt-legacy in /usr/local/lib/python3.10/dist-packages (from keras-tuner) (1.0.5)\n",
            "Requirement already satisfied: charset-normalizer<4,>=2 in /usr/local/lib/python3.10/dist-packages (from requests->keras-tuner) (3.3.2)\n",
            "Requirement already satisfied: idna<4,>=2.5 in /usr/local/lib/python3.10/dist-packages (from requests->keras-tuner) (3.7)\n",
            "Requirement already satisfied: urllib3<3,>=1.21.1 in /usr/local/lib/python3.10/dist-packages (from requests->keras-tuner) (2.0.7)\n",
            "Requirement already satisfied: certifi>=2017.4.17 in /usr/local/lib/python3.10/dist-packages (from requests->keras-tuner) (2024.7.4)\n"
          ]
        }
      ],
      "source": [
        "# Install necessary package\n",
        "!pip install keras-tuner"
      ]
    },
    {
      "cell_type": "code",
      "source": [
        "from kerastuner import RandomSearch\n",
        "from google.colab import files\n",
        "import pandas as pd\n",
        "import warnings\n",
        "\n",
        "# Upload the files to the Colab environment\n",
        "uploaded = files.upload()\n",
        "\n",
        "# Read the Excel files into pandas DataFrames\n",
        "gene_data = pd.read_excel('Final_Extended_Combined_Gene_CDS.xlsx')\n",
        "phenotype_data = pd.read_excel('Combined_Phenotypes_Final.xlsx')\n",
        "\n",
        "# Display the first few rows of each dataframe\n",
        "print(\"Gene Data:\")\n",
        "print(gene_data.head())\n",
        "print(\"\\nPhenotype Data:\")\n",
        "print(phenotype_data.head())"
      ],
      "metadata": {
        "colab": {
          "base_uri": "https://localhost:8080/",
          "height": 975
        },
        "id": "EbZQs8k00tph",
        "outputId": "e9474659-9e50-4c34-c85a-16365a43d5cd"
      },
      "execution_count": 105,
      "outputs": [
        {
          "output_type": "display_data",
          "data": {
            "text/plain": [
              "<IPython.core.display.HTML object>"
            ],
            "text/html": [
              "\n",
              "     <input type=\"file\" id=\"files-0ea5ac3a-d886-4ce3-a270-1f04705ebb7b\" name=\"files[]\" multiple disabled\n",
              "        style=\"border:none\" />\n",
              "     <output id=\"result-0ea5ac3a-d886-4ce3-a270-1f04705ebb7b\">\n",
              "      Upload widget is only available when the cell has been executed in the\n",
              "      current browser session. Please rerun this cell to enable.\n",
              "      </output>\n",
              "      <script>// Copyright 2017 Google LLC\n",
              "//\n",
              "// Licensed under the Apache License, Version 2.0 (the \"License\");\n",
              "// you may not use this file except in compliance with the License.\n",
              "// You may obtain a copy of the License at\n",
              "//\n",
              "//      http://www.apache.org/licenses/LICENSE-2.0\n",
              "//\n",
              "// Unless required by applicable law or agreed to in writing, software\n",
              "// distributed under the License is distributed on an \"AS IS\" BASIS,\n",
              "// WITHOUT WARRANTIES OR CONDITIONS OF ANY KIND, either express or implied.\n",
              "// See the License for the specific language governing permissions and\n",
              "// limitations under the License.\n",
              "\n",
              "/**\n",
              " * @fileoverview Helpers for google.colab Python module.\n",
              " */\n",
              "(function(scope) {\n",
              "function span(text, styleAttributes = {}) {\n",
              "  const element = document.createElement('span');\n",
              "  element.textContent = text;\n",
              "  for (const key of Object.keys(styleAttributes)) {\n",
              "    element.style[key] = styleAttributes[key];\n",
              "  }\n",
              "  return element;\n",
              "}\n",
              "\n",
              "// Max number of bytes which will be uploaded at a time.\n",
              "const MAX_PAYLOAD_SIZE = 100 * 1024;\n",
              "\n",
              "function _uploadFiles(inputId, outputId) {\n",
              "  const steps = uploadFilesStep(inputId, outputId);\n",
              "  const outputElement = document.getElementById(outputId);\n",
              "  // Cache steps on the outputElement to make it available for the next call\n",
              "  // to uploadFilesContinue from Python.\n",
              "  outputElement.steps = steps;\n",
              "\n",
              "  return _uploadFilesContinue(outputId);\n",
              "}\n",
              "\n",
              "// This is roughly an async generator (not supported in the browser yet),\n",
              "// where there are multiple asynchronous steps and the Python side is going\n",
              "// to poll for completion of each step.\n",
              "// This uses a Promise to block the python side on completion of each step,\n",
              "// then passes the result of the previous step as the input to the next step.\n",
              "function _uploadFilesContinue(outputId) {\n",
              "  const outputElement = document.getElementById(outputId);\n",
              "  const steps = outputElement.steps;\n",
              "\n",
              "  const next = steps.next(outputElement.lastPromiseValue);\n",
              "  return Promise.resolve(next.value.promise).then((value) => {\n",
              "    // Cache the last promise value to make it available to the next\n",
              "    // step of the generator.\n",
              "    outputElement.lastPromiseValue = value;\n",
              "    return next.value.response;\n",
              "  });\n",
              "}\n",
              "\n",
              "/**\n",
              " * Generator function which is called between each async step of the upload\n",
              " * process.\n",
              " * @param {string} inputId Element ID of the input file picker element.\n",
              " * @param {string} outputId Element ID of the output display.\n",
              " * @return {!Iterable<!Object>} Iterable of next steps.\n",
              " */\n",
              "function* uploadFilesStep(inputId, outputId) {\n",
              "  const inputElement = document.getElementById(inputId);\n",
              "  inputElement.disabled = false;\n",
              "\n",
              "  const outputElement = document.getElementById(outputId);\n",
              "  outputElement.innerHTML = '';\n",
              "\n",
              "  const pickedPromise = new Promise((resolve) => {\n",
              "    inputElement.addEventListener('change', (e) => {\n",
              "      resolve(e.target.files);\n",
              "    });\n",
              "  });\n",
              "\n",
              "  const cancel = document.createElement('button');\n",
              "  inputElement.parentElement.appendChild(cancel);\n",
              "  cancel.textContent = 'Cancel upload';\n",
              "  const cancelPromise = new Promise((resolve) => {\n",
              "    cancel.onclick = () => {\n",
              "      resolve(null);\n",
              "    };\n",
              "  });\n",
              "\n",
              "  // Wait for the user to pick the files.\n",
              "  const files = yield {\n",
              "    promise: Promise.race([pickedPromise, cancelPromise]),\n",
              "    response: {\n",
              "      action: 'starting',\n",
              "    }\n",
              "  };\n",
              "\n",
              "  cancel.remove();\n",
              "\n",
              "  // Disable the input element since further picks are not allowed.\n",
              "  inputElement.disabled = true;\n",
              "\n",
              "  if (!files) {\n",
              "    return {\n",
              "      response: {\n",
              "        action: 'complete',\n",
              "      }\n",
              "    };\n",
              "  }\n",
              "\n",
              "  for (const file of files) {\n",
              "    const li = document.createElement('li');\n",
              "    li.append(span(file.name, {fontWeight: 'bold'}));\n",
              "    li.append(span(\n",
              "        `(${file.type || 'n/a'}) - ${file.size} bytes, ` +\n",
              "        `last modified: ${\n",
              "            file.lastModifiedDate ? file.lastModifiedDate.toLocaleDateString() :\n",
              "                                    'n/a'} - `));\n",
              "    const percent = span('0% done');\n",
              "    li.appendChild(percent);\n",
              "\n",
              "    outputElement.appendChild(li);\n",
              "\n",
              "    const fileDataPromise = new Promise((resolve) => {\n",
              "      const reader = new FileReader();\n",
              "      reader.onload = (e) => {\n",
              "        resolve(e.target.result);\n",
              "      };\n",
              "      reader.readAsArrayBuffer(file);\n",
              "    });\n",
              "    // Wait for the data to be ready.\n",
              "    let fileData = yield {\n",
              "      promise: fileDataPromise,\n",
              "      response: {\n",
              "        action: 'continue',\n",
              "      }\n",
              "    };\n",
              "\n",
              "    // Use a chunked sending to avoid message size limits. See b/62115660.\n",
              "    let position = 0;\n",
              "    do {\n",
              "      const length = Math.min(fileData.byteLength - position, MAX_PAYLOAD_SIZE);\n",
              "      const chunk = new Uint8Array(fileData, position, length);\n",
              "      position += length;\n",
              "\n",
              "      const base64 = btoa(String.fromCharCode.apply(null, chunk));\n",
              "      yield {\n",
              "        response: {\n",
              "          action: 'append',\n",
              "          file: file.name,\n",
              "          data: base64,\n",
              "        },\n",
              "      };\n",
              "\n",
              "      let percentDone = fileData.byteLength === 0 ?\n",
              "          100 :\n",
              "          Math.round((position / fileData.byteLength) * 100);\n",
              "      percent.textContent = `${percentDone}% done`;\n",
              "\n",
              "    } while (position < fileData.byteLength);\n",
              "  }\n",
              "\n",
              "  // All done.\n",
              "  yield {\n",
              "    response: {\n",
              "      action: 'complete',\n",
              "    }\n",
              "  };\n",
              "}\n",
              "\n",
              "scope.google = scope.google || {};\n",
              "scope.google.colab = scope.google.colab || {};\n",
              "scope.google.colab._files = {\n",
              "  _uploadFiles,\n",
              "  _uploadFilesContinue,\n",
              "};\n",
              "})(self);\n",
              "</script> "
            ]
          },
          "metadata": {}
        },
        {
          "output_type": "stream",
          "name": "stdout",
          "text": [
            "Saving Final_Extended_Combined_Gene_CDS.xlsx to Final_Extended_Combined_Gene_CDS (1).xlsx\n",
            "Saving Combined_Phenotypes_Final.xlsx to Combined_Phenotypes_Final (1).xlsx\n",
            "Gene Data:\n",
            "      Gene                              Phenotype Activity Score  \\\n",
            "0    ABCG2                     Decreased Function            NaN   \n",
            "1    ABCG2                        Normal Function            NaN   \n",
            "2    ABCG2                          Poor Function            NaN   \n",
            "3  CACNA1S  Malignant Hyperthermia Susceptibility            NaN   \n",
            "4  CACNA1S               Uncertain Susceptibility            NaN   \n",
            "\n",
            "  EHR Priority Result Notation  \\\n",
            "0  Abnormal/Priority/High Risk   \n",
            "1      Normal/Routine/Low Risk   \n",
            "2  Abnormal/Priority/High Risk   \n",
            "3  Abnormal/Priority/High Risk   \n",
            "4                  Normal Risk   \n",
            "\n",
            "                                   Consultation Text  \n",
            "0  This result signifies that the patient has one...  \n",
            "1  This result signifies that the patient has two...  \n",
            "2  This result signifies that the patient has two...  \n",
            "3  This result signifies that this patient has on...  \n",
            "4  Variation in RYR1 and/or CACNA1S genes is asso...  \n",
            "\n",
            "Phenotype Data:\n",
            "                   Allele 1 Function                  Allele 2 Function  \\\n",
            "0                 Decreased function                 Decreased function   \n",
            "1                    Normal function                    Normal function   \n",
            "2                    Normal function                 Decreased function   \n",
            "3                    Normal function                    Normal function   \n",
            "4  Malignant Hyperthermia associated  Malignant Hyperthermia associated   \n",
            "\n",
            "  Activity Value Allele 1 Activity Value Allele 2 Activity Score  \\\n",
            "0                     NaN                     NaN            NaN   \n",
            "1                     NaN                     NaN            NaN   \n",
            "2                     NaN                     NaN            NaN   \n",
            "3                     NaN                     NaN            NaN   \n",
            "4                     NaN                     NaN            NaN   \n",
            "\n",
            "                                       Phenotype  \\\n",
            "0                            ABCG2 Poor Function   \n",
            "1                          ABCG2 Normal Function   \n",
            "2                       ABCG2 Decreased Function   \n",
            "3               CACNA1S Uncertain Susceptibility   \n",
            "4  CACNA1S Malignant Hyperthermia Susceptibility   \n",
            "\n",
            "                                         Description     Gene  \n",
            "0  An individual carrying two decreased function ...    ABCG2  \n",
            "1  An individual carrying two normal function all...    ABCG2  \n",
            "2  An individual carrying one normal function all...    ABCG2  \n",
            "3  An individual negative for a CACNA1S malignant...  CACNA1S  \n",
            "4  An individual homozygous or compound heterozyg...  CACNA1S  \n"
          ]
        }
      ]
    },
    {
      "cell_type": "code",
      "source": [
        "# Filling NaNs with the median value for numeric columns\n",
        "phenotypes_df_filled = phenotype_data.fillna(phenotype_data.median(numeric_only=True))\n",
        "genes_df_filled = gene_data.fillna(gene_data.median(numeric_only=True))\n",
        "\n",
        "# Filling remaining NaNs with 'Unknown'\n",
        "phenotypes_df_filled = phenotypes_df_filled.fillna('Unknown')\n",
        "genes_df_filled = genes_df_filled.fillna('Unknown')\n",
        "\n",
        "# Verify that all NaNs have been filled\n",
        "phenotypes_nan_check = phenotypes_df_filled.isna().sum()\n",
        "genes_nan_check = genes_df_filled.isna().sum()\n",
        "\n",
        "print(phenotypes_nan_check)\n",
        "print(genes_nan_check)\n"
      ],
      "metadata": {
        "colab": {
          "base_uri": "https://localhost:8080/"
        },
        "id": "xDa7hCBoXhZ7",
        "outputId": "5c614c97-47e9-4a01-a52b-680800837210"
      },
      "execution_count": 106,
      "outputs": [
        {
          "output_type": "stream",
          "name": "stdout",
          "text": [
            "Allele 1 Function          0\n",
            "Allele 2 Function          0\n",
            "Activity Value Allele 1    0\n",
            "Activity Value Allele 2    0\n",
            "Activity Score             0\n",
            "Phenotype                  0\n",
            "Description                0\n",
            "Gene                       0\n",
            "dtype: int64\n",
            "Gene                            0\n",
            "Phenotype                       0\n",
            "Activity Score                  0\n",
            "EHR Priority Result Notation    0\n",
            "Consultation Text               0\n",
            "dtype: int64\n"
          ]
        }
      ]
    },
    {
      "cell_type": "code",
      "source": [
        "from google.colab import drive\n",
        "drive.mount('/content/drive')\n",
        "\n",
        "# Combine the datasets on the 'Gene' column\n",
        "combined_data = pd.merge(genes_df_filled , phenotypes_df_filled, on='Gene')\n",
        "\n",
        "# Display the first few rows of the combined dataframe\n",
        "print(\"Combined Data:\")\n",
        "print(combined_data.head())\n",
        "\n",
        "# Print column names to check for correct target column\n",
        "print(\"Columns in combined data:\")\n",
        "print(combined_data.columns)"
      ],
      "metadata": {
        "colab": {
          "base_uri": "https://localhost:8080/"
        },
        "id": "KpZbCpy6-9hP",
        "outputId": "020962fe-e1ae-4b18-e2f3-9d05f62aa7b2"
      },
      "execution_count": 110,
      "outputs": [
        {
          "output_type": "stream",
          "name": "stdout",
          "text": [
            "Drive already mounted at /content/drive; to attempt to forcibly remount, call drive.mount(\"/content/drive\", force_remount=True).\n",
            "Combined Data:\n",
            "    Gene         Phenotype_x Activity Score_x EHR Priority Result Notation  \\\n",
            "0  ABCG2  Decreased Function          Unknown  Abnormal/Priority/High Risk   \n",
            "1  ABCG2  Decreased Function          Unknown  Abnormal/Priority/High Risk   \n",
            "2  ABCG2  Decreased Function          Unknown  Abnormal/Priority/High Risk   \n",
            "3  ABCG2     Normal Function          Unknown      Normal/Routine/Low Risk   \n",
            "4  ABCG2     Normal Function          Unknown      Normal/Routine/Low Risk   \n",
            "\n",
            "                                   Consultation Text   Allele 1 Function  \\\n",
            "0  This result signifies that the patient has one...  Decreased function   \n",
            "1  This result signifies that the patient has one...     Normal function   \n",
            "2  This result signifies that the patient has one...     Normal function   \n",
            "3  This result signifies that the patient has two...  Decreased function   \n",
            "4  This result signifies that the patient has two...     Normal function   \n",
            "\n",
            "    Allele 2 Function Activity Value Allele 1 Activity Value Allele 2  \\\n",
            "0  Decreased function                 Unknown                 Unknown   \n",
            "1     Normal function                 Unknown                 Unknown   \n",
            "2  Decreased function                 Unknown                 Unknown   \n",
            "3  Decreased function                 Unknown                 Unknown   \n",
            "4     Normal function                 Unknown                 Unknown   \n",
            "\n",
            "  Activity Score_y               Phenotype_y  \\\n",
            "0          Unknown       ABCG2 Poor Function   \n",
            "1          Unknown     ABCG2 Normal Function   \n",
            "2          Unknown  ABCG2 Decreased Function   \n",
            "3          Unknown       ABCG2 Poor Function   \n",
            "4          Unknown     ABCG2 Normal Function   \n",
            "\n",
            "                                         Description  \n",
            "0  An individual carrying two decreased function ...  \n",
            "1  An individual carrying two normal function all...  \n",
            "2  An individual carrying one normal function all...  \n",
            "3  An individual carrying two decreased function ...  \n",
            "4  An individual carrying two normal function all...  \n",
            "Columns in combined data:\n",
            "Index(['Gene', 'Phenotype_x', 'Activity Score_x',\n",
            "       'EHR Priority Result Notation', 'Consultation Text',\n",
            "       'Allele 1 Function', 'Allele 2 Function', 'Activity Value Allele 1',\n",
            "       'Activity Value Allele 2', 'Activity Score_y', 'Phenotype_y',\n",
            "       'Description'],\n",
            "      dtype='object')\n"
          ]
        }
      ]
    },
    {
      "cell_type": "code",
      "source": [
        "# Use the correct column name for the target variable\n",
        "target_column = 'Phenotype_x'\n",
        "\n",
        "# Include 'Phenotype_y' as a feature\n",
        "X = combined_data.drop(columns=[target_column])  # Keep 'Phenotype_y' in features\n",
        "y = combined_data[target_column]"
      ],
      "metadata": {
        "id": "_8ZQ7mkpJwaM"
      },
      "execution_count": 111,
      "outputs": []
    },
    {
      "cell_type": "code",
      "source": [
        "from sklearn.preprocessing import LabelEncoder\n",
        "\n",
        "# Initialize LabelEncoders for all object type columns\n",
        "label_encoders = {}\n",
        "\n",
        "for column in X.select_dtypes(include=['object']).columns:\n",
        "    le = LabelEncoder()\n",
        "    X[column] = le.fit_transform(X[column])\n",
        "    label_encoders[column] = le\n",
        "\n",
        "# Encode the target variable\n",
        "target_encoder = LabelEncoder()\n",
        "y = target_encoder.fit_transform(y)"
      ],
      "metadata": {
        "id": "kHNymq3bCuqe"
      },
      "execution_count": 112,
      "outputs": []
    },
    {
      "cell_type": "code",
      "source": [
        "from sklearn.model_selection import train_test_split\n",
        "from sklearn.preprocessing import StandardScaler\n",
        "\n",
        "# Normalize the feature data\n",
        "scaler = StandardScaler()\n",
        "X_scaled = scaler.fit_transform(X)\n",
        "\n",
        "# Split the data into training and testing sets\n",
        "X_train, X_test, y_train, y_test = train_test_split(X_scaled, y, test_size=0.2, random_state=42)"
      ],
      "metadata": {
        "id": "Dv8mcCthC3gU"
      },
      "execution_count": 113,
      "outputs": []
    },
    {
      "cell_type": "code",
      "source": [
        "import tensorflow as tf\n",
        "from tensorflow.keras.models import Sequential\n",
        "from tensorflow.keras.layers import Dense, Dropout\n",
        "\n",
        "# Define the model\n",
        "model = Sequential([\n",
        "    Dense(128, activation='relu', input_shape=(X_train.shape[1],)),\n",
        "    Dropout(0.2),\n",
        "    Dense(64, activation='relu'),\n",
        "    Dropout(0.2),\n",
        "    Dense(len(target_encoder.classes_), activation='softmax')  # For multi-class classification\n",
        "])\n",
        "\n",
        "# Compile the model\n",
        "model.compile(optimizer='adam', loss='sparse_categorical_crossentropy', metrics=['accuracy'])\n",
        "\n",
        "# Train the model\n",
        "history = model.fit(X_train, y_train, epochs=50, batch_size=32, validation_split=0.2)\n",
        "\n",
        "# Evaluate the model\n",
        "test_loss, test_accuracy = model.evaluate(X_test, y_test)\n",
        "print(f'Test Accuracy: {test_accuracy}')"
      ],
      "metadata": {
        "colab": {
          "base_uri": "https://localhost:8080/"
        },
        "id": "1nM_ZSqJC_4Q",
        "outputId": "f2bf95f9-2c4c-46b8-88e6-ad3d3d99feae"
      },
      "execution_count": 114,
      "outputs": [
        {
          "output_type": "stream",
          "name": "stdout",
          "text": [
            "Epoch 1/50\n",
            "33/33 [==============================] - 2s 14ms/step - loss: 2.7738 - accuracy: 0.2997 - val_loss: 2.1626 - val_accuracy: 0.5670\n",
            "Epoch 2/50\n",
            "33/33 [==============================] - 0s 8ms/step - loss: 1.7624 - accuracy: 0.5408 - val_loss: 1.3328 - val_accuracy: 0.6782\n",
            "Epoch 3/50\n",
            "33/33 [==============================] - 0s 6ms/step - loss: 1.2234 - accuracy: 0.6801 - val_loss: 1.0220 - val_accuracy: 0.7165\n",
            "Epoch 4/50\n",
            "33/33 [==============================] - 0s 7ms/step - loss: 1.0078 - accuracy: 0.7070 - val_loss: 0.8884 - val_accuracy: 0.7318\n",
            "Epoch 5/50\n",
            "33/33 [==============================] - 0s 6ms/step - loss: 0.8926 - accuracy: 0.7205 - val_loss: 0.8086 - val_accuracy: 0.7356\n",
            "Epoch 6/50\n",
            "33/33 [==============================] - 0s 7ms/step - loss: 0.8134 - accuracy: 0.7406 - val_loss: 0.7509 - val_accuracy: 0.7203\n",
            "Epoch 7/50\n",
            "33/33 [==============================] - 0s 8ms/step - loss: 0.7567 - accuracy: 0.7474 - val_loss: 0.7092 - val_accuracy: 0.7203\n",
            "Epoch 8/50\n",
            "33/33 [==============================] - 0s 7ms/step - loss: 0.7300 - accuracy: 0.7493 - val_loss: 0.6848 - val_accuracy: 0.7280\n",
            "Epoch 9/50\n",
            "33/33 [==============================] - 0s 4ms/step - loss: 0.7072 - accuracy: 0.7522 - val_loss: 0.6651 - val_accuracy: 0.7395\n",
            "Epoch 10/50\n",
            "33/33 [==============================] - 0s 3ms/step - loss: 0.6632 - accuracy: 0.7704 - val_loss: 0.6369 - val_accuracy: 0.7548\n",
            "Epoch 11/50\n",
            "33/33 [==============================] - 0s 3ms/step - loss: 0.6526 - accuracy: 0.7752 - val_loss: 0.6234 - val_accuracy: 0.7510\n",
            "Epoch 12/50\n",
            "33/33 [==============================] - 0s 4ms/step - loss: 0.6440 - accuracy: 0.7627 - val_loss: 0.6110 - val_accuracy: 0.7701\n",
            "Epoch 13/50\n",
            "33/33 [==============================] - 0s 4ms/step - loss: 0.6169 - accuracy: 0.7771 - val_loss: 0.5981 - val_accuracy: 0.7701\n",
            "Epoch 14/50\n",
            "33/33 [==============================] - 0s 4ms/step - loss: 0.6001 - accuracy: 0.7877 - val_loss: 0.5816 - val_accuracy: 0.7854\n",
            "Epoch 15/50\n",
            "33/33 [==============================] - 0s 4ms/step - loss: 0.5918 - accuracy: 0.7819 - val_loss: 0.5636 - val_accuracy: 0.7816\n",
            "Epoch 16/50\n",
            "33/33 [==============================] - 0s 4ms/step - loss: 0.5859 - accuracy: 0.7983 - val_loss: 0.5528 - val_accuracy: 0.7893\n",
            "Epoch 17/50\n",
            "33/33 [==============================] - 0s 4ms/step - loss: 0.5683 - accuracy: 0.7743 - val_loss: 0.5379 - val_accuracy: 0.7969\n",
            "Epoch 18/50\n",
            "33/33 [==============================] - 0s 4ms/step - loss: 0.5482 - accuracy: 0.8050 - val_loss: 0.5309 - val_accuracy: 0.7969\n",
            "Epoch 19/50\n",
            "33/33 [==============================] - 0s 4ms/step - loss: 0.5368 - accuracy: 0.8050 - val_loss: 0.5122 - val_accuracy: 0.8008\n",
            "Epoch 20/50\n",
            "33/33 [==============================] - 0s 5ms/step - loss: 0.5128 - accuracy: 0.8031 - val_loss: 0.5028 - val_accuracy: 0.8046\n",
            "Epoch 21/50\n",
            "33/33 [==============================] - 0s 4ms/step - loss: 0.5144 - accuracy: 0.8021 - val_loss: 0.4970 - val_accuracy: 0.7969\n",
            "Epoch 22/50\n",
            "33/33 [==============================] - 0s 4ms/step - loss: 0.5120 - accuracy: 0.8050 - val_loss: 0.4963 - val_accuracy: 0.7969\n",
            "Epoch 23/50\n",
            "33/33 [==============================] - 0s 4ms/step - loss: 0.4864 - accuracy: 0.8069 - val_loss: 0.4789 - val_accuracy: 0.8123\n",
            "Epoch 24/50\n",
            "33/33 [==============================] - 0s 4ms/step - loss: 0.4786 - accuracy: 0.8242 - val_loss: 0.4751 - val_accuracy: 0.7931\n",
            "Epoch 25/50\n",
            "33/33 [==============================] - 0s 4ms/step - loss: 0.4766 - accuracy: 0.8031 - val_loss: 0.4748 - val_accuracy: 0.8046\n",
            "Epoch 26/50\n",
            "33/33 [==============================] - 0s 4ms/step - loss: 0.4626 - accuracy: 0.8146 - val_loss: 0.4582 - val_accuracy: 0.8046\n",
            "Epoch 27/50\n",
            "33/33 [==============================] - 0s 5ms/step - loss: 0.4545 - accuracy: 0.8271 - val_loss: 0.4427 - val_accuracy: 0.8238\n",
            "Epoch 28/50\n",
            "33/33 [==============================] - 0s 4ms/step - loss: 0.4589 - accuracy: 0.8194 - val_loss: 0.4369 - val_accuracy: 0.8161\n",
            "Epoch 29/50\n",
            "33/33 [==============================] - 0s 4ms/step - loss: 0.4543 - accuracy: 0.8261 - val_loss: 0.4334 - val_accuracy: 0.8123\n",
            "Epoch 30/50\n",
            "33/33 [==============================] - 0s 4ms/step - loss: 0.4569 - accuracy: 0.8252 - val_loss: 0.4320 - val_accuracy: 0.8199\n",
            "Epoch 31/50\n",
            "33/33 [==============================] - 0s 4ms/step - loss: 0.4273 - accuracy: 0.8329 - val_loss: 0.4223 - val_accuracy: 0.8161\n",
            "Epoch 32/50\n",
            "33/33 [==============================] - 0s 4ms/step - loss: 0.4338 - accuracy: 0.8232 - val_loss: 0.4158 - val_accuracy: 0.8046\n",
            "Epoch 33/50\n",
            "33/33 [==============================] - 0s 4ms/step - loss: 0.4229 - accuracy: 0.8194 - val_loss: 0.4115 - val_accuracy: 0.8161\n",
            "Epoch 34/50\n",
            "33/33 [==============================] - 0s 4ms/step - loss: 0.4156 - accuracy: 0.8232 - val_loss: 0.4119 - val_accuracy: 0.8199\n",
            "Epoch 35/50\n",
            "33/33 [==============================] - 0s 5ms/step - loss: 0.4077 - accuracy: 0.8290 - val_loss: 0.4084 - val_accuracy: 0.8123\n",
            "Epoch 36/50\n",
            "33/33 [==============================] - 0s 4ms/step - loss: 0.3866 - accuracy: 0.8377 - val_loss: 0.3944 - val_accuracy: 0.8199\n",
            "Epoch 37/50\n",
            "33/33 [==============================] - 0s 4ms/step - loss: 0.4036 - accuracy: 0.8329 - val_loss: 0.3936 - val_accuracy: 0.8199\n",
            "Epoch 38/50\n",
            "33/33 [==============================] - 0s 4ms/step - loss: 0.3710 - accuracy: 0.8540 - val_loss: 0.3874 - val_accuracy: 0.8238\n",
            "Epoch 39/50\n",
            "33/33 [==============================] - 0s 4ms/step - loss: 0.3875 - accuracy: 0.8473 - val_loss: 0.3793 - val_accuracy: 0.8238\n",
            "Epoch 40/50\n",
            "33/33 [==============================] - 0s 4ms/step - loss: 0.3857 - accuracy: 0.8396 - val_loss: 0.3770 - val_accuracy: 0.8238\n",
            "Epoch 41/50\n",
            "33/33 [==============================] - 0s 4ms/step - loss: 0.3700 - accuracy: 0.8482 - val_loss: 0.3625 - val_accuracy: 0.8314\n",
            "Epoch 42/50\n",
            "33/33 [==============================] - 0s 5ms/step - loss: 0.3613 - accuracy: 0.8501 - val_loss: 0.3639 - val_accuracy: 0.8123\n",
            "Epoch 43/50\n",
            "33/33 [==============================] - 0s 4ms/step - loss: 0.3571 - accuracy: 0.8396 - val_loss: 0.3617 - val_accuracy: 0.8276\n",
            "Epoch 44/50\n",
            "33/33 [==============================] - 0s 4ms/step - loss: 0.3645 - accuracy: 0.8444 - val_loss: 0.3597 - val_accuracy: 0.8276\n",
            "Epoch 45/50\n",
            "33/33 [==============================] - 0s 4ms/step - loss: 0.3667 - accuracy: 0.8444 - val_loss: 0.3513 - val_accuracy: 0.8352\n",
            "Epoch 46/50\n",
            "33/33 [==============================] - 0s 3ms/step - loss: 0.3541 - accuracy: 0.8569 - val_loss: 0.3473 - val_accuracy: 0.8276\n",
            "Epoch 47/50\n",
            "33/33 [==============================] - 0s 4ms/step - loss: 0.3338 - accuracy: 0.8530 - val_loss: 0.3419 - val_accuracy: 0.8352\n",
            "Epoch 48/50\n",
            "33/33 [==============================] - 0s 4ms/step - loss: 0.3447 - accuracy: 0.8569 - val_loss: 0.3426 - val_accuracy: 0.8276\n",
            "Epoch 49/50\n",
            "33/33 [==============================] - 0s 6ms/step - loss: 0.3407 - accuracy: 0.8444 - val_loss: 0.3319 - val_accuracy: 0.8391\n",
            "Epoch 50/50\n",
            "33/33 [==============================] - 0s 4ms/step - loss: 0.3443 - accuracy: 0.8549 - val_loss: 0.3440 - val_accuracy: 0.8314\n",
            "11/11 [==============================] - 0s 2ms/step - loss: 0.3391 - accuracy: 0.8374\n",
            "Test Accuracy: 0.8374233245849609\n"
          ]
        }
      ]
    },
    {
      "cell_type": "code",
      "source": [
        "#Visualization\n",
        "import matplotlib.pyplot as plt\n",
        "\n",
        "# Plot training & validation accuracy values\n",
        "plt.plot(history.history['accuracy'])\n",
        "plt.plot(history.history['val_accuracy'])\n",
        "plt.title('Model accuracy')\n",
        "plt.ylabel('Accuracy')\n",
        "plt.xlabel('Epoch')\n",
        "plt.legend(['Train', 'Validation'], loc='upper left')\n",
        "plt.show()\n",
        "\n",
        "# Plot training & validation loss values\n",
        "plt.plot(history.history['loss'])\n",
        "plt.plot(history.history['val_loss'])\n",
        "plt.title('Model loss')\n",
        "plt.ylabel('Loss')\n",
        "plt.xlabel('Epoch')\n",
        "plt.legend(['Train', 'Validation'], loc='upper left')\n",
        "plt.show()"
      ],
      "metadata": {
        "colab": {
          "base_uri": "https://localhost:8080/",
          "height": 927
        },
        "id": "pfRVnI5zDCSg",
        "outputId": "db9c99bb-2cd8-4f21-c29d-56a5a649151c"
      },
      "execution_count": 115,
      "outputs": [
        {
          "output_type": "display_data",
          "data": {
            "text/plain": [
              "<Figure size 640x480 with 1 Axes>"
            ],
            "image/png": "[encoded data removed]"
          },
          "metadata": {}
        },
        {
          "output_type": "display_data",
          "data": {
            "text/plain": [
              "<Figure size 640x480 with 1 Axes>"
            ],
            "image/png": "[encoded data removed]"
          },
          "metadata": {}
        }
      ]
    },
    {
      "cell_type": "code",
      "source": [
        "import numpy as np\n",
        "from sklearn.metrics import confusion_matrix, classification_report\n",
        "\n",
        "# Predict on the test set\n",
        "y_pred = model.predict(X_test)\n",
        "y_pred_classes = np.argmax(y_pred, axis=1)\n",
        "\n",
        "# Get unique classes from true labels and predicted labels\n",
        "unique_true_classes = np.unique(y_test)\n",
        "unique_pred_classes = np.unique(y_pred_classes)\n",
        "\n",
        "# Generate the confusion matrix\n",
        "conf_matrix = confusion_matrix(y_test, y_pred_classes, labels=unique_true_classes)\n",
        "print(\"Confusion Matrix:\")\n",
        "print(conf_matrix)\n",
        "\n"
      ],
      "metadata": {
        "colab": {
          "base_uri": "https://localhost:8080/"
        },
        "id": "C1wYPZZLDF3o",
        "outputId": "be23e8eb-5970-404a-818c-bece3617a41f"
      },
      "execution_count": 118,
      "outputs": [
        {
          "output_type": "stream",
          "name": "stdout",
          "text": [
            "11/11 [==============================] - 0s 7ms/step\n",
            "Confusion Matrix:\n",
            "[[ 0  0  0  1  1  0  0  0  0  0  0  0  0  0  0  0  0  0  0]\n",
            " [ 0  0  0  0  0  0  0  0  0  0  0  0  0  0  0  0  0  0  0]\n",
            " [ 0  0  0  0  0  0  0  0  2  0  0  0  0  0  0  0  0  0  0]\n",
            " [ 0  0  0 26  1  0  0  0  0  0  0  0  0  0  0  0  0  0  0]\n",
            " [ 0  0  0  0 58  0  0  0  0  0  0  1  0  0  0  0  0  0  0]\n",
            " [ 0  0  0  0  2  0  0  0  0  0  0  0  0  0  0  0  0  0  0]\n",
            " [ 0  0  0  0  1  3  0  0  0  0  0  0  0  0  0  0  0  0  0]\n",
            " [ 0  0  0  0  0  0  0  3  0  0  0  0  0  0  0  0  0  0  0]\n",
            " [ 0  0  2  0  0  0  0  0  1  0  0  0  0  0  0  0  0  0  0]\n",
            " [ 0  0  0  0  0  0  0  0  2 55  0  0  0  0  0  1  0  0  0]\n",
            " [ 0  0  0  0  0  0  0  0  0  0  1  0  0  0  0  0  0  0  0]\n",
            " [ 0  0  0  0  7  0  0  0  0  1  3 25  0  0  0  0  0  0  0]\n",
            " [ 0  0  0  0  1  0  0  0  0  0  0  0  0  2  0  0  0  0  0]\n",
            " [ 0  0  0  0  2  0  0  0  0  0  0  0  0  3  0  0  0  0  0]\n",
            " [ 0  0  0  0  2  0  0  0  0  0  0  0  0  0  2  0  0  0  0]\n",
            " [ 0  0  0  0  0  0  0  0  0  3  0  0  0  0  0 99  0  0  0]\n",
            " [ 0  0  0  0  0  0  0  0  0  0  0  0  0  0  0  0  0  0  0]\n",
            " [ 0  0  0  0  1  0  0  0  0  0  0  0  0  0  0  0  0  0  0]\n",
            " [ 0  0  0  0  0  0  0  0  0  0  0  0  0  0  0  0  0  0  0]]\n"
          ]
        }
      ]
    },
    {
      "cell_type": "code",
      "source": [
        "import numpy as np\n",
        "from sklearn.metrics import confusion_matrix, ConfusionMatrixDisplay, classification_report\n",
        "\n",
        "# Predict on the test set\n",
        "y_pred = model.predict(X_test)\n",
        "y_pred_classes = np.argmax(y_pred, axis=1)\n",
        "\n",
        "# Generate the confusion matrix\n",
        "conf_matrix = confusion_matrix(y_test, y_pred_classes)\n",
        "\n",
        "# Optionally, visualize the confusion matrix\n",
        "disp = ConfusionMatrixDisplay(confusion_matrix=conf_matrix)\n",
        "disp.plot(cmap=plt.cm.Blues)  # You can choose a color map you prefer\n",
        "plt.show()\n",
        "\n"
      ],
      "metadata": {
        "colab": {
          "base_uri": "https://localhost:8080/",
          "height": 466
        },
        "id": "iz2dPmzva_0e",
        "outputId": "aae57051-0ca3-4dad-e76c-651bfa0e1f4d"
      },
      "execution_count": 117,
      "outputs": [
        {
          "output_type": "stream",
          "name": "stdout",
          "text": [
            "11/11 [==============================] - 0s 2ms/step\n"
          ]
        },
        {
          "output_type": "display_data",
          "data": {
            "text/plain": [
              "<Figure size 640x480 with 2 Axes>"
            ],
            "image/png": "[encoded data removed]"
          },
          "metadata": {}
        }
      ]
    },
    {
      "cell_type": "code",
      "source": [
        "# Convert unique class indices to actual class names using target encoder\n",
        "actual_target_names = target_encoder.inverse_transform(unique_true_classes)\n",
        "\n",
        "# Ensure all target names are strings\n",
        "actual_target_names = [str(name) for name in actual_target_names]\n",
        "\n",
        "# Generate the classification report using the correct labels and target names\n",
        "class_report = classification_report(y_test, y_pred_classes, labels=unique_true_classes, target_names=actual_target_names)\n",
        "print(\"\\nClassification Report:\")\n",
        "print(class_report)"
      ],
      "metadata": {
        "colab": {
          "base_uri": "https://localhost:8080/"
        },
        "id": "hj0NYXRBDKG0",
        "outputId": "463ebc6a-ae1b-4e4b-ff5b-e83ac4da9166"
      },
      "execution_count": 119,
      "outputs": [
        {
          "output_type": "stream",
          "name": "stdout",
          "text": [
            "\n",
            "Classification Report:\n",
            "                                                       precision    recall  f1-score   support\n",
            "\n",
            "                                   Decreased Function       0.00      0.00      0.00         2\n",
            "                                 Deficient with CNSHA       0.00      0.00      0.00         4\n",
            "                                   Increased Function       0.00      0.00      0.00         2\n",
            "                                        Indeterminate       0.96      0.81      0.88        32\n",
            "                             Intermediate Metabolizer       0.76      0.98      0.86        59\n",
            "                      Likely Intermediate Metabolizer       0.00      0.00      0.00         2\n",
            "                              Likely Poor Metabolizer       0.00      0.00      0.00         4\n",
            "                                               Normal       1.00      1.00      1.00         3\n",
            "                                      Normal Function       0.20      0.33      0.25         3\n",
            "                                   Normal Metabolizer       0.93      0.95      0.94        58\n",
            "                                        Poor Function       0.25      1.00      0.40         1\n",
            "                                     Poor Metabolizer       0.96      0.69      0.81        36\n",
            "                          Possible Decreased Function       0.00      0.00      0.00         3\n",
            "                    Possible Intermediate Metabolizer       0.60      0.60      0.60         5\n",
            "                                    Rapid Metabolizer       1.00      0.50      0.67         4\n",
            "                               Ultrarapid Metabolizer       0.99      0.97      0.98       102\n",
            "                                             Variable       0.00      0.00      0.00         4\n",
            "increased risk of aminoglycoside-induced hearing loss       0.00      0.00      0.00         1\n",
            "   normal risk of aminoglycoside-induced hearing loss       0.00      0.00      0.00         1\n",
            "\n",
            "                                            micro avg       0.88      0.84      0.86       326\n",
            "                                            macro avg       0.40      0.41      0.39       326\n",
            "                                         weighted avg       0.85      0.84      0.84       326\n",
            "\n"
          ]
        },
        {
          "output_type": "stream",
          "name": "stderr",
          "text": [
            "/usr/local/lib/python3.10/dist-packages/sklearn/metrics/_classification.py:1344: UndefinedMetricWarning: Precision and F-score are ill-defined and being set to 0.0 in labels with no predicted samples. Use `zero_division` parameter to control this behavior.\n",
            "  _warn_prf(average, modifier, msg_start, len(result))\n",
            "/usr/local/lib/python3.10/dist-packages/sklearn/metrics/_classification.py:1344: UndefinedMetricWarning: Precision and F-score are ill-defined and being set to 0.0 in labels with no predicted samples. Use `zero_division` parameter to control this behavior.\n",
            "  _warn_prf(average, modifier, msg_start, len(result))\n",
            "/usr/local/lib/python3.10/dist-packages/sklearn/metrics/_classification.py:1344: UndefinedMetricWarning: Precision and F-score are ill-defined and being set to 0.0 in labels with no predicted samples. Use `zero_division` parameter to control this behavior.\n",
            "  _warn_prf(average, modifier, msg_start, len(result))\n"
          ]
        }
      ]
    },
    {
      "cell_type": "code",
      "source": [
        "# Define a function to build the model with different hyperparameters\n",
        "def build_model(hp):\n",
        "    model = Sequential()\n",
        "    model.add(Dense(units=hp.Int('units', min_value=32, max_value=512, step=32),\n",
        "                    activation='relu', input_shape=(X_train.shape[1],)))\n",
        "    model.add(Dropout(hp.Float('dropout', min_value=0.0, max_value=0.5, step=0.1)))\n",
        "    model.add(Dense(len(target_encoder.classes_), activation='softmax'))\n",
        "    model.compile(optimizer=hp.Choice('optimizer', ['adam', 'rmsprop']),\n",
        "                  loss='sparse_categorical_crossentropy',\n",
        "                  metrics=['accuracy'])\n",
        "    return model\n",
        "\n",
        "# Perform hyperparameter search\n",
        "tuner = RandomSearch(build_model,\n",
        "                     objective='val_accuracy',\n",
        "                     max_trials=10,\n",
        "                     executions_per_trial=2,\n",
        "                     directory='my_dir',\n",
        "                     project_name='hyperparam_tuning')\n",
        "tuner.search(X_train, y_train, epochs=50, validation_split=0.2)\n",
        "best_hps = tuner.get_best_hyperparameters(num_trials=1)[0]\n",
        "\n",
        "# Print best hyperparameters\n",
        "print(f\"The best number of units is {best_hps.get('units')}\")\n",
        "print(f\"The best dropout rate is {best_hps.get('dropout')}\")\n",
        "print(f\"The best optimizer is {best_hps.get('optimizer')}\")\n",
        "\n"
      ],
      "metadata": {
        "colab": {
          "base_uri": "https://localhost:8080/"
        },
        "id": "0GLLN5fYDPBV",
        "outputId": "299d6934-776f-4545-9c2e-7072455b56e4"
      },
      "execution_count": 121,
      "outputs": [
        {
          "output_type": "stream",
          "name": "stdout",
          "text": [
            "Reloading Tuner from my_dir/hyperparam_tuning/tuner0.json\n",
            "The best number of units is 480\n",
            "The best dropout rate is 0.0\n",
            "The best optimizer is rmsprop\n"
          ]
        }
      ]
    },
    {
      "cell_type": "code",
      "source": [
        "#Cross-validation\n",
        "from tensorflow.keras.layers import Input\n",
        "\n",
        "def create_model():\n",
        "    model = Sequential()\n",
        "    model.add(Input(shape=(X_train.shape[1],)))  # Use Input layer for defining input shape\n",
        "    model.add(Dense(128, activation='relu'))\n",
        "    model.add(Dropout(0.2))\n",
        "    model.add(Dense(64, activation='relu'))\n",
        "    model.add(Dropout(0.2))\n",
        "    model.add(Dense(len(target_encoder.classes_), activation='softmax'))\n",
        "    model.compile(optimizer='adam', loss='sparse_categorical_crossentropy', metrics=['accuracy'])\n",
        "    return model"
      ],
      "metadata": {
        "id": "Ztg4ltqDDR6H"
      },
      "execution_count": 122,
      "outputs": []
    },
    {
      "cell_type": "code",
      "source": [
        "from sklearn.base import BaseEstimator, ClassifierMixin\n",
        "from sklearn.model_selection import cross_val_score\n",
        "\n",
        "class CustomKerasClassifier(BaseEstimator, ClassifierMixin):\n",
        "    def __init__(self, build_fn=None, epochs=1, batch_size=32, verbose=0, **kwargs):\n",
        "        self.build_fn = build_fn\n",
        "        self.epochs = epochs\n",
        "        self.batch_size = batch_size\n",
        "        self.verbose = verbose\n",
        "        self.kwargs = kwargs\n",
        "        self.model_ = None\n",
        "\n",
        "    def fit(self, X, y, **kwargs):\n",
        "        self.model_ = self.build_fn()\n",
        "        self.model_.fit(X, y, epochs=self.epochs, batch_size=self.batch_size, verbose=self.verbose, **kwargs)\n",
        "        return self\n",
        "\n",
        "    def predict(self, X, **kwargs):\n",
        "        return np.argmax(self.model_.predict(X), axis=-1)\n",
        "\n",
        "    def score(self, X, y, **kwargs):\n",
        "        return self.model_.evaluate(X, y, verbose=self.verbose, **kwargs)[1]\n",
        "\n",
        "# Re-instantiate and use the custom classifier\n",
        "model = CustomKerasClassifier(build_fn=create_model, epochs=50, batch_size=32, verbose=0)\n",
        "\n",
        "# Run cross-validation\n",
        "scores = cross_val_score(model, X_scaled, y, cv=5)\n",
        "print(f\"Cross-Validation Accuracy: {scores.mean()} ± {scores.std()}\")"
      ],
      "metadata": {
        "colab": {
          "base_uri": "https://localhost:8080/"
        },
        "id": "oGflbEy-EII5",
        "outputId": "8b8e632d-be63-454b-d8c4-733970c4f1df"
      },
      "execution_count": 123,
      "outputs": [
        {
          "output_type": "stream",
          "name": "stderr",
          "text": [
            "/usr/local/lib/python3.10/dist-packages/sklearn/model_selection/_split.py:700: UserWarning: The least populated class in y has only 3 members, which is less than n_splits=5.\n",
            "  warnings.warn(\n"
          ]
        },
        {
          "output_type": "stream",
          "name": "stdout",
          "text": [
            "Cross-Validation Accuracy: 0.7622388005256653 ± 0.13590961994661022\n"
          ]
        }
      ]
    },
    {
      "cell_type": "code",
      "source": [
        "# Define the model with the best hyperparameters\n",
        "best_model = Sequential([\n",
        "    Input(shape=(X_train.shape[1],)),\n",
        "    Dense(units=best_hps.get('units'), activation='relu'),\n",
        "    Dropout(best_hps.get('dropout')),\n",
        "    Dense(len(target_encoder.classes_), activation='softmax')\n",
        "])\n",
        "\n",
        "# Compile the model\n",
        "best_model.compile(optimizer=best_hps.get('optimizer'),\n",
        "                   loss='sparse_categorical_crossentropy',\n",
        "                   metrics=['accuracy'])\n",
        "\n",
        "# Train the model\n",
        "best_model.fit(X_scaled, y, epochs=50, batch_size=32, validation_split=0.2)\n",
        "\n",
        "# Evaluate the model\n",
        "test_loss, test_accuracy = best_model.evaluate(X_test, y_test)\n",
        "print(f'Test Accuracy: {test_accuracy}')\n",
        "\n",
        "# Save the model in the new format\n",
        "best_model.save(\"final_model.keras\")\n",
        "\n"
      ],
      "metadata": {
        "colab": {
          "base_uri": "https://localhost:8080/"
        },
        "id": "BI5jafgfEKDS",
        "outputId": "8a39a0b5-144a-4b08-8676-aec44b49a9a5"
      },
      "execution_count": 125,
      "outputs": [
        {
          "output_type": "stream",
          "name": "stdout",
          "text": [
            "Epoch 1/50\n",
            "41/41 [==============================] - 1s 12ms/step - loss: 1.5888 - accuracy: 0.7343 - val_loss: 3.0579 - val_accuracy: 0.1994\n",
            "Epoch 2/50\n",
            "41/41 [==============================] - 0s 6ms/step - loss: 0.6590 - accuracy: 0.8395 - val_loss: 3.3076 - val_accuracy: 0.1626\n",
            "Epoch 3/50\n",
            "41/41 [==============================] - 0s 6ms/step - loss: 0.4474 - accuracy: 0.8449 - val_loss: 3.6340 - val_accuracy: 0.1933\n",
            "Epoch 4/50\n",
            "41/41 [==============================] - 0s 6ms/step - loss: 0.3641 - accuracy: 0.8702 - val_loss: 3.9867 - val_accuracy: 0.1626\n",
            "Epoch 5/50\n",
            "41/41 [==============================] - 0s 6ms/step - loss: 0.3166 - accuracy: 0.8940 - val_loss: 4.3097 - val_accuracy: 0.1963\n",
            "Epoch 6/50\n",
            "41/41 [==============================] - 0s 7ms/step - loss: 0.2811 - accuracy: 0.9055 - val_loss: 4.7391 - val_accuracy: 0.2117\n",
            "Epoch 7/50\n",
            "41/41 [==============================] - 0s 4ms/step - loss: 0.2581 - accuracy: 0.9178 - val_loss: 5.1135 - val_accuracy: 0.2117\n",
            "Epoch 8/50\n",
            "41/41 [==============================] - 0s 3ms/step - loss: 0.2355 - accuracy: 0.9194 - val_loss: 5.4713 - val_accuracy: 0.2086\n",
            "Epoch 9/50\n",
            "41/41 [==============================] - 0s 3ms/step - loss: 0.2165 - accuracy: 0.9324 - val_loss: 5.8691 - val_accuracy: 0.2239\n",
            "Epoch 10/50\n",
            "41/41 [==============================] - 0s 3ms/step - loss: 0.1986 - accuracy: 0.9339 - val_loss: 6.2829 - val_accuracy: 0.2086\n",
            "Epoch 11/50\n",
            "41/41 [==============================] - 0s 3ms/step - loss: 0.1836 - accuracy: 0.9386 - val_loss: 6.7063 - val_accuracy: 0.2117\n",
            "Epoch 12/50\n",
            "41/41 [==============================] - 0s 4ms/step - loss: 0.1749 - accuracy: 0.9386 - val_loss: 7.1096 - val_accuracy: 0.2117\n",
            "Epoch 13/50\n",
            "41/41 [==============================] - 0s 4ms/step - loss: 0.1638 - accuracy: 0.9432 - val_loss: 7.4756 - val_accuracy: 0.2147\n",
            "Epoch 14/50\n",
            "41/41 [==============================] - 0s 4ms/step - loss: 0.1568 - accuracy: 0.9432 - val_loss: 7.8431 - val_accuracy: 0.2147\n",
            "Epoch 15/50\n",
            "41/41 [==============================] - 0s 3ms/step - loss: 0.1489 - accuracy: 0.9508 - val_loss: 8.1794 - val_accuracy: 0.2147\n",
            "Epoch 16/50\n",
            "41/41 [==============================] - 0s 3ms/step - loss: 0.1435 - accuracy: 0.9516 - val_loss: 8.4883 - val_accuracy: 0.2147\n",
            "Epoch 17/50\n",
            "41/41 [==============================] - 0s 3ms/step - loss: 0.1375 - accuracy: 0.9447 - val_loss: 8.9115 - val_accuracy: 0.2147\n",
            "Epoch 18/50\n",
            "41/41 [==============================] - 0s 3ms/step - loss: 0.1312 - accuracy: 0.9508 - val_loss: 9.2009 - val_accuracy: 0.2147\n",
            "Epoch 19/50\n",
            "41/41 [==============================] - 0s 4ms/step - loss: 0.1263 - accuracy: 0.9570 - val_loss: 9.5220 - val_accuracy: 0.2393\n",
            "Epoch 20/50\n",
            "41/41 [==============================] - 0s 3ms/step - loss: 0.1190 - accuracy: 0.9624 - val_loss: 10.0138 - val_accuracy: 0.2055\n",
            "Epoch 21/50\n",
            "41/41 [==============================] - 0s 3ms/step - loss: 0.1184 - accuracy: 0.9585 - val_loss: 10.2113 - val_accuracy: 0.2147\n",
            "Epoch 22/50\n",
            "41/41 [==============================] - 0s 3ms/step - loss: 0.1135 - accuracy: 0.9539 - val_loss: 10.5283 - val_accuracy: 0.2454\n",
            "Epoch 23/50\n",
            "41/41 [==============================] - 0s 3ms/step - loss: 0.1088 - accuracy: 0.9608 - val_loss: 10.9009 - val_accuracy: 0.2423\n",
            "Epoch 24/50\n",
            "41/41 [==============================] - 0s 3ms/step - loss: 0.1064 - accuracy: 0.9601 - val_loss: 11.1353 - val_accuracy: 0.2423\n",
            "Epoch 25/50\n",
            "41/41 [==============================] - 0s 3ms/step - loss: 0.1023 - accuracy: 0.9662 - val_loss: 11.3971 - val_accuracy: 0.2423\n",
            "Epoch 26/50\n",
            "41/41 [==============================] - 0s 4ms/step - loss: 0.0978 - accuracy: 0.9631 - val_loss: 11.6463 - val_accuracy: 0.2331\n",
            "Epoch 27/50\n",
            "41/41 [==============================] - 0s 4ms/step - loss: 0.0946 - accuracy: 0.9693 - val_loss: 12.1066 - val_accuracy: 0.2178\n",
            "Epoch 28/50\n",
            "41/41 [==============================] - 0s 3ms/step - loss: 0.0930 - accuracy: 0.9700 - val_loss: 12.2348 - val_accuracy: 0.2025\n",
            "Epoch 29/50\n",
            "41/41 [==============================] - 0s 3ms/step - loss: 0.0899 - accuracy: 0.9670 - val_loss: 12.5276 - val_accuracy: 0.2209\n",
            "Epoch 30/50\n",
            "41/41 [==============================] - 0s 3ms/step - loss: 0.0855 - accuracy: 0.9731 - val_loss: 12.9734 - val_accuracy: 0.1994\n",
            "Epoch 31/50\n",
            "41/41 [==============================] - 0s 3ms/step - loss: 0.0844 - accuracy: 0.9724 - val_loss: 13.1461 - val_accuracy: 0.2086\n",
            "Epoch 32/50\n",
            "41/41 [==============================] - 0s 4ms/step - loss: 0.0815 - accuracy: 0.9716 - val_loss: 13.3523 - val_accuracy: 0.2239\n",
            "Epoch 33/50\n",
            "41/41 [==============================] - 0s 3ms/step - loss: 0.0785 - accuracy: 0.9754 - val_loss: 13.7046 - val_accuracy: 0.2117\n",
            "Epoch 34/50\n",
            "41/41 [==============================] - 0s 4ms/step - loss: 0.0762 - accuracy: 0.9762 - val_loss: 13.9771 - val_accuracy: 0.2055\n",
            "Epoch 35/50\n",
            "41/41 [==============================] - 0s 3ms/step - loss: 0.0768 - accuracy: 0.9747 - val_loss: 14.1111 - val_accuracy: 0.2178\n",
            "Epoch 36/50\n",
            "41/41 [==============================] - 0s 3ms/step - loss: 0.0723 - accuracy: 0.9762 - val_loss: 14.4220 - val_accuracy: 0.2178\n",
            "Epoch 37/50\n",
            "41/41 [==============================] - 0s 3ms/step - loss: 0.0714 - accuracy: 0.9785 - val_loss: 14.6941 - val_accuracy: 0.1994\n",
            "Epoch 38/50\n",
            "41/41 [==============================] - 0s 3ms/step - loss: 0.0671 - accuracy: 0.9816 - val_loss: 15.0162 - val_accuracy: 0.1994\n",
            "Epoch 39/50\n",
            "41/41 [==============================] - 0s 3ms/step - loss: 0.0692 - accuracy: 0.9754 - val_loss: 15.1615 - val_accuracy: 0.2178\n",
            "Epoch 40/50\n",
            "41/41 [==============================] - 0s 4ms/step - loss: 0.0640 - accuracy: 0.9816 - val_loss: 15.4224 - val_accuracy: 0.2147\n",
            "Epoch 41/50\n",
            "41/41 [==============================] - 0s 4ms/step - loss: 0.0630 - accuracy: 0.9793 - val_loss: 15.6164 - val_accuracy: 0.2117\n",
            "Epoch 42/50\n",
            "41/41 [==============================] - 0s 4ms/step - loss: 0.0635 - accuracy: 0.9800 - val_loss: 15.8823 - val_accuracy: 0.2178\n",
            "Epoch 43/50\n",
            "41/41 [==============================] - 0s 3ms/step - loss: 0.0593 - accuracy: 0.9846 - val_loss: 16.0731 - val_accuracy: 0.2055\n",
            "Epoch 44/50\n",
            "41/41 [==============================] - 0s 3ms/step - loss: 0.0593 - accuracy: 0.9800 - val_loss: 16.2696 - val_accuracy: 0.2055\n",
            "Epoch 45/50\n",
            "41/41 [==============================] - 0s 3ms/step - loss: 0.0571 - accuracy: 0.9839 - val_loss: 16.5008 - val_accuracy: 0.2055\n",
            "Epoch 46/50\n",
            "41/41 [==============================] - 0s 5ms/step - loss: 0.0556 - accuracy: 0.9854 - val_loss: 16.6626 - val_accuracy: 0.2086\n",
            "Epoch 47/50\n",
            "41/41 [==============================] - 0s 3ms/step - loss: 0.0551 - accuracy: 0.9892 - val_loss: 16.9941 - val_accuracy: 0.2178\n",
            "Epoch 48/50\n",
            "41/41 [==============================] - 0s 3ms/step - loss: 0.0525 - accuracy: 0.9877 - val_loss: 17.0872 - val_accuracy: 0.2086\n",
            "Epoch 49/50\n",
            "41/41 [==============================] - 0s 3ms/step - loss: 0.0502 - accuracy: 0.9892 - val_loss: 17.3694 - val_accuracy: 0.2147\n",
            "Epoch 50/50\n",
            "41/41 [==============================] - 0s 3ms/step - loss: 0.0501 - accuracy: 0.9877 - val_loss: 17.4716 - val_accuracy: 0.2055\n",
            "11/11 [==============================] - 0s 2ms/step - loss: 3.0004 - accuracy: 0.8405\n",
            "Test Accuracy: 0.8404908180236816\n"
          ]
        }
      ]
    },
    {
      "cell_type": "code",
      "source": [
        "# Print unique gene names\n",
        "print(\"Available Genes:\")\n",
        "print(combined_data['Gene'].unique())\n",
        "\n",
        "# Print unique phenotypes\n",
        "print(\"\\nAvailable Phenotypes:\")\n",
        "print(combined_data['Phenotype_y'].unique())"
      ],
      "metadata": {
        "colab": {
          "base_uri": "https://localhost:8080/"
        },
        "id": "fV-IhZilSqxG",
        "outputId": "19515846-878c-45c9-d7ee-891898680583"
      },
      "execution_count": 126,
      "outputs": [
        {
          "output_type": "stream",
          "name": "stdout",
          "text": [
            "Available Genes:\n",
            "['ABCG2' 'CACNA1S' 'CYP2B6' 'CYP2C9' 'CYP2C19' 'CYP2D6' 'CYP3A5' 'DPYD'\n",
            " 'G6PD' 'MT-RNR1' 'NUDT15' 'SLCO1B1' 'TPMT']\n",
            "\n",
            "Available Phenotypes:\n",
            "['ABCG2 Poor Function' 'ABCG2 Normal Function' 'ABCG2 Decreased Function'\n",
            " 'CACNA1S Uncertain Susceptibility'\n",
            " 'CACNA1S Malignant Hyperthermia Susceptibility'\n",
            " 'CYP2B6 Ultrarapid Metabolizer' 'CYP2B6 Rapid Metabolizer'\n",
            " 'CYP2B6 Poor Metabolizer' 'CYP2B6 Normal Metabolizer'\n",
            " 'CYP2B6 Intermediate Metabolizer' 'CYP2B6 Indeterminate'\n",
            " 'CYP2C9 Normal Metabolizer' 'CYP2C9 Intermediate Metabolizer'\n",
            " 'CYP2C9 Poor Metabolizer' 'CYP2C9 Indeterminate'\n",
            " 'CYP2C19 Ultrarapid Metabolizer' 'CYP2C19 Rapid Metabolizer'\n",
            " 'CYP2C19 Poor Metabolizer' 'CYP2C19 Normal Metabolizer'\n",
            " 'CYP2C19 Likely Poor Metabolizer'\n",
            " 'CYP2C19 Likely Intermediate Metabolizer'\n",
            " 'CYP2C19 Intermediate Metabolizer' 'CYP2C19 Indeterminate'\n",
            " 'CYP2D6 Ultrarapid Metabolizer' 'CYP2D6 Normal Metabolizer'\n",
            " 'CYP2D6 Intermediate Metabolizer' 'CYP2D6 Poor Metabolizer'\n",
            " 'CYP2D6 Indeterminate' 'CYP3A5 Possible Intermediate Metabolizer'\n",
            " 'CYP3A5 Poor Metabolizer' 'CYP3A5 Normal Metabolizer'\n",
            " 'CYP3A5 Intermediate Metabolizer' 'CYP3A5 Indeterminate'\n",
            " 'DPYD Normal Metabolizer' 'DPYD Intermediate Metabolizer'\n",
            " 'DPYD Poor Metabolizer' 'G6PD Variable' 'G6PD Normal'\n",
            " 'G6PD Indeterminate' 'G6PD Deficient with CNSHA' 'G6PD Deficient'\n",
            " 'MT-RNR1 uncertain risk of aminoglycoside-induced hearing loss'\n",
            " 'MT-RNR1 normal risk of aminoglycoside-induced hearing loss'\n",
            " 'MT-RNR1 increased risk of aminoglycoside-induced hearing loss'\n",
            " 'NUDT15 Possible Intermediate Metabolizer' 'NUDT15 Poor Metabolizer'\n",
            " 'NUDT15 Normal Metabolizer' 'NUDT15 Intermediate Metabolizer'\n",
            " 'NUDT15 Indeterminate' 'SLCO1B1 Possible Decreased Function'\n",
            " 'SLCO1B1 Poor Function' 'SLCO1B1 Normal Function' 'SLCO1B1 Indeterminate'\n",
            " 'SLCO1B1 Increased Function' 'SLCO1B1 Decreased Function'\n",
            " 'TPMT Possible Intermediate Metabolizer' 'TPMT Poor Metabolizer'\n",
            " 'TPMT Normal Metabolizer' 'TPMT Intermediate Metabolizer'\n",
            " 'TPMT Indeterminate']\n"
          ]
        }
      ]
    },
    {
      "cell_type": "code",
      "source": [
        "#Prediction\n",
        "def predict_with_gene_phenotype(gene, phenotype, combined_data, model, scaler, label_encoders, target_encoder):\n",
        "    # Filter the row corresponding to the input gene and phenotype\n",
        "    gene_phenotype_row = combined_data[(combined_data['Gene'] == gene) & (combined_data['Phenotype_y'] == phenotype)]\n",
        "\n",
        "    if gene_phenotype_row.empty:\n",
        "        raise ValueError(\"Gene and Phenotype combination not found in the dataset.\")\n",
        "\n",
        "    # Drop the target column\n",
        "    gene_features = gene_phenotype_row.drop(columns=['Phenotype_x'])\n",
        "\n",
        "    # Encode categorical features\n",
        "    for column in gene_features.select_dtypes(include=['object']).columns:\n",
        "        if column in label_encoders:\n",
        "            le = label_encoders[column]\n",
        "            gene_features[column] = le.transform(gene_features[column])\n",
        "\n",
        "    # Scale the features\n",
        "    gene_features_scaled = scaler.transform(gene_features)\n",
        "\n",
        "    # Make predictions\n",
        "    predictions = model.predict(gene_features_scaled)\n",
        "    predicted_class = np.argmax(predictions, axis=1)\n",
        "\n",
        "    # Decode the predicted class\n",
        "    predicted_phenotype = target_encoder.inverse_transform(predicted_class)\n",
        "\n",
        "    # Create a dictionary for the output\n",
        "    # Create a dictionary for the output with additional information\n",
        "    output = {\n",
        "        'Gene': gene,\n",
        "        'Phenotype': phenotype,\n",
        "        'Predicted Phenotype_x': predicted_phenotype[0],\n",
        "        'Activity Score_x': gene_phenotype_row['Activity Score_x'].values[0],\n",
        "        'EHR Priority Result Notation': gene_phenotype_row['EHR Priority Result Notation'].values[0],\n",
        "        'Consultation Text': gene_phenotype_row['Consultation Text'].values[0],\n",
        "        'Allele 1 Function': gene_phenotype_row['Allele 1 Function'].values[0],\n",
        "        'Allele 2 Function': gene_phenotype_row['Allele 2 Function'].values[0],\n",
        "        'Activity Value Allele 1': gene_phenotype_row['Activity Value Allele 1'].values[0],\n",
        "        'Activity Value Allele 2': gene_phenotype_row['Activity Value Allele 2'].values[0],\n",
        "        'Description': gene_phenotype_row['Description'].values[0]\n",
        "    }\n",
        "    # Print output line by line\n",
        "    print(\"Prediction Results:\")\n",
        "    for key, value in output.items():\n",
        "        print(f\"{key}: {value}\")\n",
        "    return output\n",
        "\n",
        "# input specific gene and phenotype that we want to predict\n",
        "gene = 'TPMT'\n",
        "phenotype = 'TPMT Indeterminate'\n",
        "output = predict_with_gene_phenotype(gene, phenotype, combined_data, best_model, scaler, label_encoders, target_encoder)"
      ],
      "metadata": {
        "colab": {
          "base_uri": "https://localhost:8080/"
        },
        "id": "OeMhT9A6F82P",
        "outputId": "50c33314-3cdd-4ef0-9cd7-6c34035dcdc5"
      },
      "execution_count": 127,
      "outputs": [
        {
          "output_type": "stream",
          "name": "stdout",
          "text": [
            "1/1 [==============================] - 0s 103ms/step\n",
            "Prediction Results:\n",
            "Gene: TPMT\n",
            "Phenotype: TPMT Indeterminate\n",
            "Predicted Phenotype_x: Intermediate Metabolizer\n",
            "Activity Score_x: Unknown\n",
            "EHR Priority Result Notation: Abnormal/Priority/High Risk\n",
            "Consultation Text: This result signifies that the patient has an allele combination with uncertain and/or unknown function alleles. The expected phenotype for this patient cannot be determined currently based on the TPMT diplotype result. Consider evaluating TPMT erythrocyte activity to assess TPMT phenotype. Erythrocyte TPMT activity test results can be falsely low at diagnosis of leukemia and is unreliable in the case of recent red blood cell transfusions. If thiopurines are required and TPMT status is unknown, monitor closely for toxicity. Please consult a clinical pharmacist for more specific information about how TPMT function influences drug dosing.\n",
            "Allele 1 Function: Unknown function\n",
            "Allele 2 Function: Normal function\n",
            "Activity Value Allele 1: Unknown\n",
            "Activity Value Allele 2: Unknown\n",
            "Description: An individual carrying one normal function allele and one uncertain function allele\n"
          ]
        }
      ]
    },
    {
      "cell_type": "code",
      "source": [],
      "metadata": {
        "id": "Ih7VHjCMpEpc"
      },
      "execution_count": 128,
      "outputs": []
    }
  ]
}